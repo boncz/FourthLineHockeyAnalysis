{
 "cells": [
  {
   "cell_type": "code",
   "execution_count": 35,
   "id": "initial_id",
   "metadata": {
    "collapsed": true,
    "ExecuteTime": {
     "end_time": "2023-11-04T02:38:36.904416600Z",
     "start_time": "2023-11-04T02:38:36.877672200Z"
    }
   },
   "outputs": [],
   "source": [
    "import pandas as pd\n",
    "import sqlite3"
   ]
  },
  {
   "cell_type": "markdown",
   "source": [
    "# Exploratory Data Analysis - Pittsburgh Penguins 2015-2016 Playoff Data\n",
    "## 2015-2016 Stanley Cup Winners\n",
    "--------\n",
    "### To begin the EDA process, I use the SQL query below to quickly get the data I'm looking for.\n",
    "* game type 'P' = Playoff Game\n",
    "* Penguins team id = 5\n",
    "### After creating the query, I connected to the NHL_data database and created a pandas df for easier manipulation and analysis.\n"
   ],
   "metadata": {
    "collapsed": false
   },
   "id": "f2cef80de95c18e1"
  },
  {
   "cell_type": "code",
   "execution_count": 36,
   "outputs": [],
   "source": [
    "playoff_20152016_data_query = ('''\n",
    "SELECT game.game_id, game_plays.*, game_plays_players.player_id, player_info.firstName, player_info.lastName FROM game\n",
    "JOIN game_plays ON game.game_id = game_plays.game_id\n",
    "JOIN game_plays_players ON game_plays.play_id = game_plays_players.play_id\n",
    "JOIN player_info ON game_plays_players.player_id = player_info.player_id\n",
    "WHERE game.type = 'P'\n",
    "    AND game.season = 20152016\n",
    "    AND (\n",
    "        game.home_team_id = 5\n",
    "        OR\n",
    "        game.away_team_id = 5\n",
    "        );\n",
    "''')"
   ],
   "metadata": {
    "collapsed": false,
    "ExecuteTime": {
     "end_time": "2023-11-04T02:38:36.914905400Z",
     "start_time": "2023-11-04T02:38:36.881184300Z"
    }
   },
   "id": "29351929c095058a"
  },
  {
   "cell_type": "code",
   "execution_count": 37,
   "outputs": [],
   "source": [
    "conn = sqlite3.connect('NHL_data.db')"
   ],
   "metadata": {
    "collapsed": false,
    "ExecuteTime": {
     "end_time": "2023-11-04T02:38:36.917895500Z",
     "start_time": "2023-11-04T02:38:36.884520Z"
    }
   },
   "id": "14af5ad132dead54"
  },
  {
   "cell_type": "code",
   "execution_count": 38,
   "outputs": [],
   "source": [
    "pens_201516_playoff_df = pd.read_sql_query(playoff_20152016_data_query, conn)"
   ],
   "metadata": {
    "collapsed": false,
    "ExecuteTime": {
     "end_time": "2023-11-04T02:38:53.612110Z",
     "start_time": "2023-11-04T02:38:36.889918500Z"
    }
   },
   "id": "847628f585c8f4a0"
  },
  {
   "cell_type": "code",
   "execution_count": 39,
   "outputs": [
    {
     "data": {
      "text/plain": "      game_id         play_id     game_id  team_id_for  team_id_against event  \\\n0  2015030141   2015030141_10  2015030141          3.0              5.0   Hit   \n1  2015030141   2015030141_10  2015030141          3.0              5.0   Hit   \n2  2015030141  2015030141_100  2015030141          3.0              5.0   Hit   \n3  2015030141  2015030141_100  2015030141          3.0              5.0   Hit   \n4  2015030141  2015030141_101  2015030141          3.0              5.0   Hit   \n\n  secondaryType     x     y  period  ... periodTimeRemaining  \\\n0          None -96.0  31.0       1  ...              1098.0   \n1          None -96.0  31.0       1  ...              1098.0   \n2          None -98.0  30.0       1  ...               222.0   \n3          None -98.0  30.0       1  ...               222.0   \n4          None -89.0 -37.0       1  ...               215.0   \n\n              dateTime  goals_away goals_home                     description  \\\n0  2016-04-14 01:12:35           0          0     Jesper Fast hit Olli Maatta   \n1  2016-04-14 01:12:35           0          0     Jesper Fast hit Olli Maatta   \n2  2016-04-14 01:44:19           0          0    Jesper Fast hit Carl Hagelin   \n3  2016-04-14 01:44:19           0          0    Jesper Fast hit Carl Hagelin   \n4  2016-04-14 01:44:26           0          0  Jesper Fast hit Justin Schultz   \n\n   st_x  st_y  player_id  firstName  lastName  \n0  96.0 -31.0    8475855     Jesper      Fast  \n1  96.0 -31.0    8476874       Olli    Maatta  \n2  98.0 -30.0    8474176       Carl   Hagelin  \n3  98.0 -30.0    8475855     Jesper      Fast  \n4  89.0  37.0    8474602     Justin   Schultz  \n\n[5 rows x 22 columns]",
      "text/html": "<div>\n<style scoped>\n    .dataframe tbody tr th:only-of-type {\n        vertical-align: middle;\n    }\n\n    .dataframe tbody tr th {\n        vertical-align: top;\n    }\n\n    .dataframe thead th {\n        text-align: right;\n    }\n</style>\n<table border=\"1\" class=\"dataframe\">\n  <thead>\n    <tr style=\"text-align: right;\">\n      <th></th>\n      <th>game_id</th>\n      <th>play_id</th>\n      <th>game_id</th>\n      <th>team_id_for</th>\n      <th>team_id_against</th>\n      <th>event</th>\n      <th>secondaryType</th>\n      <th>x</th>\n      <th>y</th>\n      <th>period</th>\n      <th>...</th>\n      <th>periodTimeRemaining</th>\n      <th>dateTime</th>\n      <th>goals_away</th>\n      <th>goals_home</th>\n      <th>description</th>\n      <th>st_x</th>\n      <th>st_y</th>\n      <th>player_id</th>\n      <th>firstName</th>\n      <th>lastName</th>\n    </tr>\n  </thead>\n  <tbody>\n    <tr>\n      <th>0</th>\n      <td>2015030141</td>\n      <td>2015030141_10</td>\n      <td>2015030141</td>\n      <td>3.0</td>\n      <td>5.0</td>\n      <td>Hit</td>\n      <td>None</td>\n      <td>-96.0</td>\n      <td>31.0</td>\n      <td>1</td>\n      <td>...</td>\n      <td>1098.0</td>\n      <td>2016-04-14 01:12:35</td>\n      <td>0</td>\n      <td>0</td>\n      <td>Jesper Fast hit Olli Maatta</td>\n      <td>96.0</td>\n      <td>-31.0</td>\n      <td>8475855</td>\n      <td>Jesper</td>\n      <td>Fast</td>\n    </tr>\n    <tr>\n      <th>1</th>\n      <td>2015030141</td>\n      <td>2015030141_10</td>\n      <td>2015030141</td>\n      <td>3.0</td>\n      <td>5.0</td>\n      <td>Hit</td>\n      <td>None</td>\n      <td>-96.0</td>\n      <td>31.0</td>\n      <td>1</td>\n      <td>...</td>\n      <td>1098.0</td>\n      <td>2016-04-14 01:12:35</td>\n      <td>0</td>\n      <td>0</td>\n      <td>Jesper Fast hit Olli Maatta</td>\n      <td>96.0</td>\n      <td>-31.0</td>\n      <td>8476874</td>\n      <td>Olli</td>\n      <td>Maatta</td>\n    </tr>\n    <tr>\n      <th>2</th>\n      <td>2015030141</td>\n      <td>2015030141_100</td>\n      <td>2015030141</td>\n      <td>3.0</td>\n      <td>5.0</td>\n      <td>Hit</td>\n      <td>None</td>\n      <td>-98.0</td>\n      <td>30.0</td>\n      <td>1</td>\n      <td>...</td>\n      <td>222.0</td>\n      <td>2016-04-14 01:44:19</td>\n      <td>0</td>\n      <td>0</td>\n      <td>Jesper Fast hit Carl Hagelin</td>\n      <td>98.0</td>\n      <td>-30.0</td>\n      <td>8474176</td>\n      <td>Carl</td>\n      <td>Hagelin</td>\n    </tr>\n    <tr>\n      <th>3</th>\n      <td>2015030141</td>\n      <td>2015030141_100</td>\n      <td>2015030141</td>\n      <td>3.0</td>\n      <td>5.0</td>\n      <td>Hit</td>\n      <td>None</td>\n      <td>-98.0</td>\n      <td>30.0</td>\n      <td>1</td>\n      <td>...</td>\n      <td>222.0</td>\n      <td>2016-04-14 01:44:19</td>\n      <td>0</td>\n      <td>0</td>\n      <td>Jesper Fast hit Carl Hagelin</td>\n      <td>98.0</td>\n      <td>-30.0</td>\n      <td>8475855</td>\n      <td>Jesper</td>\n      <td>Fast</td>\n    </tr>\n    <tr>\n      <th>4</th>\n      <td>2015030141</td>\n      <td>2015030141_101</td>\n      <td>2015030141</td>\n      <td>3.0</td>\n      <td>5.0</td>\n      <td>Hit</td>\n      <td>None</td>\n      <td>-89.0</td>\n      <td>-37.0</td>\n      <td>1</td>\n      <td>...</td>\n      <td>215.0</td>\n      <td>2016-04-14 01:44:26</td>\n      <td>0</td>\n      <td>0</td>\n      <td>Jesper Fast hit Justin Schultz</td>\n      <td>89.0</td>\n      <td>37.0</td>\n      <td>8474602</td>\n      <td>Justin</td>\n      <td>Schultz</td>\n    </tr>\n  </tbody>\n</table>\n<p>5 rows × 22 columns</p>\n</div>"
     },
     "execution_count": 39,
     "metadata": {},
     "output_type": "execute_result"
    }
   ],
   "source": [
    "pens_201516_playoff_df.head()"
   ],
   "metadata": {
    "collapsed": false,
    "ExecuteTime": {
     "end_time": "2023-11-04T02:38:53.624371900Z",
     "start_time": "2023-11-04T02:38:53.622174300Z"
    }
   },
   "id": "6b8fd963730bcde2"
  },
  {
   "cell_type": "markdown",
   "source": [
    "The query was quick and easy, but seems to have given some repetitive data. To confirm, I checked the columns:"
   ],
   "metadata": {
    "collapsed": false
   },
   "id": "9fa70d7c4b105fcc"
  },
  {
   "cell_type": "code",
   "execution_count": 40,
   "outputs": [
    {
     "data": {
      "text/plain": "Index(['game_id', 'play_id', 'game_id', 'team_id_for', 'team_id_against',\n       'event', 'secondaryType', 'x', 'y', 'period', 'periodType',\n       'periodTime', 'periodTimeRemaining', 'dateTime', 'goals_away',\n       'goals_home', 'description', 'st_x', 'st_y', 'player_id', 'firstName',\n       'lastName'],\n      dtype='object')"
     },
     "execution_count": 40,
     "metadata": {},
     "output_type": "execute_result"
    }
   ],
   "source": [
    "pens_201516_playoff_df.columns"
   ],
   "metadata": {
    "collapsed": false,
    "ExecuteTime": {
     "end_time": "2023-11-04T02:38:53.630414900Z",
     "start_time": "2023-11-04T02:38:53.625379400Z"
    }
   },
   "id": "83cfba9f4328841"
  },
  {
   "cell_type": "markdown",
   "source": [
    "As expected, some columns are the same. Also noticeable is how there is both an x, y and a st_x, st_y. Only one set of coordinates is needed. \n",
    "Below I drop any duplicated columns, as well as any additional columns that are unnecessary at this time."
   ],
   "metadata": {
    "collapsed": false
   },
   "id": "147d514da89ded09"
  },
  {
   "cell_type": "code",
   "execution_count": 50,
   "outputs": [],
   "source": [
    "pens_201516_playoff_df = pens_201516_playoff_df.iloc[:,~pens_201516_playoff_df.columns.duplicated()]"
   ],
   "metadata": {
    "collapsed": false,
    "ExecuteTime": {
     "end_time": "2023-11-04T02:48:14.535606100Z",
     "start_time": "2023-11-04T02:48:14.528650100Z"
    }
   },
   "id": "2baf33c5f0ecfce9"
  },
  {
   "cell_type": "code",
   "execution_count": 60,
   "outputs": [],
   "source": [
    "pens_201516_playoff_df = pens_201516_playoff_df.drop(['dateTime','st_x','st_y'], axis=1)"
   ],
   "metadata": {
    "collapsed": false,
    "ExecuteTime": {
     "end_time": "2023-11-04T02:57:24.101562400Z",
     "start_time": "2023-11-04T02:57:24.084959800Z"
    }
   },
   "id": "5fb7612d18c84e41"
  },
  {
   "cell_type": "markdown",
   "source": [
    "I'd like to see what we're looking at for event, secondaryType, and periodType:"
   ],
   "metadata": {
    "collapsed": false
   },
   "id": "99bd606e77fb1638"
  },
  {
   "cell_type": "code",
   "execution_count": 61,
   "outputs": [
    {
     "data": {
      "text/plain": "array(['Hit', 'Shot', 'Faceoff', 'Blocked Shot', 'Missed Shot',\n       'Takeaway', 'Goal', 'Penalty', 'Giveaway'], dtype=object)"
     },
     "execution_count": 61,
     "metadata": {},
     "output_type": "execute_result"
    }
   ],
   "source": [
    "pens_201516_playoff_df.event.unique()"
   ],
   "metadata": {
    "collapsed": false,
    "ExecuteTime": {
     "end_time": "2023-11-04T02:57:25.662472600Z",
     "start_time": "2023-11-04T02:57:25.657711500Z"
    }
   },
   "id": "b8fd6fa5f127f80d"
  },
  {
   "cell_type": "code",
   "execution_count": 62,
   "outputs": [
    {
     "data": {
      "text/plain": "array([None, 'Wrist Shot', 'Snap Shot', 'Slap Shot', 'Interference',\n       'Backhand', 'Holding', 'Tripping', 'Tip-In',\n       'Hi stick - double minor', 'Roughing', 'Interference - Goalkeeper',\n       'Wrap-around', 'Hooking', 'Illegal check to head',\n       'Unsportsmanlike conduct', 'Slashing', 'Cross checking',\n       'Fighting', 'Boarding', 'Holding the stick', 'Hi-sticking',\n       'Embellishment', 'Too many men on the ice',\n       'Delaying Game - Puck over glass', 'Elbowing', 'Misconduct',\n       'Deflected'], dtype=object)"
     },
     "execution_count": 62,
     "metadata": {},
     "output_type": "execute_result"
    }
   ],
   "source": [
    "pens_201516_playoff_df.secondaryType.unique()"
   ],
   "metadata": {
    "collapsed": false,
    "ExecuteTime": {
     "end_time": "2023-11-04T02:57:26.336463100Z",
     "start_time": "2023-11-04T02:57:26.331502800Z"
    }
   },
   "id": "582172a280d37b3c"
  },
  {
   "cell_type": "code",
   "execution_count": 63,
   "outputs": [
    {
     "data": {
      "text/plain": "array(['REGULAR', 'OVERTIME'], dtype=object)"
     },
     "execution_count": 63,
     "metadata": {},
     "output_type": "execute_result"
    }
   ],
   "source": [
    "pens_201516_playoff_df.periodType.unique()"
   ],
   "metadata": {
    "collapsed": false,
    "ExecuteTime": {
     "end_time": "2023-11-04T02:57:26.756040100Z",
     "start_time": "2023-11-04T02:57:26.746576600Z"
    }
   },
   "id": "50e0e5d1b07210df"
  },
  {
   "cell_type": "markdown",
   "source": [
    "Next, I want to check for null values in the df:"
   ],
   "metadata": {
    "collapsed": false
   },
   "id": "ea8fcfe2684406fe"
  },
  {
   "cell_type": "code",
   "execution_count": 64,
   "outputs": [
    {
     "name": "stdout",
     "output_type": "stream",
     "text": [
      "<class 'pandas.core.frame.DataFrame'>\n",
      "RangeIndex: 13179 entries, 0 to 13178\n",
      "Data columns (total 18 columns):\n",
      " #   Column               Non-Null Count  Dtype  \n",
      "---  ------               --------------  -----  \n",
      " 0   game_id              13179 non-null  int64  \n",
      " 1   play_id              13179 non-null  object \n",
      " 2   team_id_for          13179 non-null  float64\n",
      " 3   team_id_against      13179 non-null  float64\n",
      " 4   event                13179 non-null  object \n",
      " 5   secondaryType        3586 non-null   object \n",
      " 6   x                    13163 non-null  float64\n",
      " 7   y                    13165 non-null  float64\n",
      " 8   period               13179 non-null  int64  \n",
      " 9   periodType           13179 non-null  object \n",
      " 10  periodTime           13179 non-null  int64  \n",
      " 11  periodTimeRemaining  13179 non-null  float64\n",
      " 12  goals_away           13179 non-null  int64  \n",
      " 13  goals_home           13179 non-null  int64  \n",
      " 14  description          13179 non-null  object \n",
      " 15  player_id            13179 non-null  int64  \n",
      " 16  firstName            13179 non-null  object \n",
      " 17  lastName             13179 non-null  object \n",
      "dtypes: float64(5), int64(6), object(7)\n",
      "memory usage: 1.8+ MB\n"
     ]
    }
   ],
   "source": [
    "pens_201516_playoff_df.info()"
   ],
   "metadata": {
    "collapsed": false,
    "ExecuteTime": {
     "end_time": "2023-11-04T02:57:27.784820600Z",
     "start_time": "2023-11-04T02:57:27.774540100Z"
    }
   },
   "id": "2edeebe61a0cfc3c"
  },
  {
   "cell_type": "markdown",
   "source": [
    "Secondary type is the only column that contains null values. What percent are null? Is this column worth keeping?"
   ],
   "metadata": {
    "collapsed": false
   },
   "id": "fff47438b4191a2c"
  },
  {
   "cell_type": "code",
   "execution_count": 65,
   "outputs": [
    {
     "data": {
      "text/plain": "72.79004476819182"
     },
     "execution_count": 65,
     "metadata": {},
     "output_type": "execute_result"
    }
   ],
   "source": [
    "secondary_type_percent_null = (pens_201516_playoff_df['secondaryType'].isnull().sum())/13179*100\n",
    "secondary_type_percent_null"
   ],
   "metadata": {
    "collapsed": false,
    "ExecuteTime": {
     "end_time": "2023-11-04T02:57:29.289645100Z",
     "start_time": "2023-11-04T02:57:29.281700200Z"
    }
   },
   "id": "73e3a89f744ccdb4"
  },
  {
   "cell_type": "code",
   "execution_count": 66,
   "outputs": [
    {
     "data": {
      "text/plain": "          game_id         play_id  team_id_for  team_id_against    event  \\\n62     2015030141  2015030141_136          3.0              5.0  Penalty   \n63     2015030141  2015030141_136          3.0              5.0  Penalty   \n153    2015030141  2015030141_193          3.0              5.0  Penalty   \n154    2015030141  2015030141_193          3.0              5.0  Penalty   \n168    2015030141  2015030141_202          5.0              3.0  Penalty   \n...           ...             ...          ...              ...      ...   \n13010  2015030416  2015030416_329         28.0              5.0  Penalty   \n13069  2015030416  2015030416_369          5.0             28.0  Penalty   \n13070  2015030416  2015030416_369          5.0             28.0  Penalty   \n13094  2015030416   2015030416_51         28.0              5.0  Penalty   \n13095  2015030416   2015030416_51         28.0              5.0  Penalty   \n\n      secondaryType     x     y  period periodType  periodTime  \\\n62     Interference  84.0 -19.0       2    REGULAR           9   \n63     Interference  84.0 -19.0       2    REGULAR           9   \n153         Holding -74.0 -39.0       2    REGULAR         602   \n154         Holding -74.0 -39.0       2    REGULAR         602   \n168        Tripping  80.0 -13.0       2    REGULAR         706   \n...             ...   ...   ...     ...        ...         ...   \n13010      Slashing -35.0  11.0       3    REGULAR         662   \n13069   Hi-sticking  32.0   4.0       3    REGULAR        1190   \n13070   Hi-sticking  32.0   4.0       3    REGULAR        1190   \n13094      Tripping -44.0  36.0       1    REGULAR         470   \n13095      Tripping -44.0  36.0       1    REGULAR         470   \n\n       periodTimeRemaining  goals_away  goals_home  \\\n62                  1191.0           0           1   \n63                  1191.0           0           1   \n153                  598.0           0           1   \n154                  598.0           0           1   \n168                  494.0           0           1   \n...                    ...         ...         ...   \n13010                538.0           2           1   \n13069                 10.0           3           1   \n13070                 10.0           3           1   \n13094                730.0           0           0   \n13095                730.0           0           0   \n\n                                          description  player_id firstName  \\\n62     Chris Kreider Interference against Kris Letang    8471724      Kris   \n63     Chris Kreider Interference against Kris Letang    8475184     Chris   \n153       Dominic Moore Holding against Tom Kuhnhackl    8468575   Dominic   \n154       Dominic Moore Holding against Tom Kuhnhackl    8475832       Tom   \n168           Trevor Daley Tripping against Rick Nash    8470041      Rick   \n...                                               ...        ...       ...   \n13010        Brent Burns Slashing against Phil Kessel    8473548      Phil   \n13069      Eric Fehr Hi-sticking against Joe Pavelski    8470611      Eric   \n13070      Eric Fehr Hi-sticking against Joe Pavelski    8470794       Joe   \n13094  Dainius Zubrus Tripping against Brian Dumoulin    8464977   Dainius   \n13095  Dainius Zubrus Tripping against Brian Dumoulin    8475208     Brian   \n\n        lastName  \n62        Letang  \n63       Kreider  \n153        Moore  \n154    Kuhnhackl  \n168         Nash  \n...          ...  \n13010     Kessel  \n13069       Fehr  \n13070   Pavelski  \n13094     Zubrus  \n13095   Dumoulin  \n\n[350 rows x 18 columns]",
      "text/html": "<div>\n<style scoped>\n    .dataframe tbody tr th:only-of-type {\n        vertical-align: middle;\n    }\n\n    .dataframe tbody tr th {\n        vertical-align: top;\n    }\n\n    .dataframe thead th {\n        text-align: right;\n    }\n</style>\n<table border=\"1\" class=\"dataframe\">\n  <thead>\n    <tr style=\"text-align: right;\">\n      <th></th>\n      <th>game_id</th>\n      <th>play_id</th>\n      <th>team_id_for</th>\n      <th>team_id_against</th>\n      <th>event</th>\n      <th>secondaryType</th>\n      <th>x</th>\n      <th>y</th>\n      <th>period</th>\n      <th>periodType</th>\n      <th>periodTime</th>\n      <th>periodTimeRemaining</th>\n      <th>goals_away</th>\n      <th>goals_home</th>\n      <th>description</th>\n      <th>player_id</th>\n      <th>firstName</th>\n      <th>lastName</th>\n    </tr>\n  </thead>\n  <tbody>\n    <tr>\n      <th>62</th>\n      <td>2015030141</td>\n      <td>2015030141_136</td>\n      <td>3.0</td>\n      <td>5.0</td>\n      <td>Penalty</td>\n      <td>Interference</td>\n      <td>84.0</td>\n      <td>-19.0</td>\n      <td>2</td>\n      <td>REGULAR</td>\n      <td>9</td>\n      <td>1191.0</td>\n      <td>0</td>\n      <td>1</td>\n      <td>Chris Kreider Interference against Kris Letang</td>\n      <td>8471724</td>\n      <td>Kris</td>\n      <td>Letang</td>\n    </tr>\n    <tr>\n      <th>63</th>\n      <td>2015030141</td>\n      <td>2015030141_136</td>\n      <td>3.0</td>\n      <td>5.0</td>\n      <td>Penalty</td>\n      <td>Interference</td>\n      <td>84.0</td>\n      <td>-19.0</td>\n      <td>2</td>\n      <td>REGULAR</td>\n      <td>9</td>\n      <td>1191.0</td>\n      <td>0</td>\n      <td>1</td>\n      <td>Chris Kreider Interference against Kris Letang</td>\n      <td>8475184</td>\n      <td>Chris</td>\n      <td>Kreider</td>\n    </tr>\n    <tr>\n      <th>153</th>\n      <td>2015030141</td>\n      <td>2015030141_193</td>\n      <td>3.0</td>\n      <td>5.0</td>\n      <td>Penalty</td>\n      <td>Holding</td>\n      <td>-74.0</td>\n      <td>-39.0</td>\n      <td>2</td>\n      <td>REGULAR</td>\n      <td>602</td>\n      <td>598.0</td>\n      <td>0</td>\n      <td>1</td>\n      <td>Dominic Moore Holding against Tom Kuhnhackl</td>\n      <td>8468575</td>\n      <td>Dominic</td>\n      <td>Moore</td>\n    </tr>\n    <tr>\n      <th>154</th>\n      <td>2015030141</td>\n      <td>2015030141_193</td>\n      <td>3.0</td>\n      <td>5.0</td>\n      <td>Penalty</td>\n      <td>Holding</td>\n      <td>-74.0</td>\n      <td>-39.0</td>\n      <td>2</td>\n      <td>REGULAR</td>\n      <td>602</td>\n      <td>598.0</td>\n      <td>0</td>\n      <td>1</td>\n      <td>Dominic Moore Holding against Tom Kuhnhackl</td>\n      <td>8475832</td>\n      <td>Tom</td>\n      <td>Kuhnhackl</td>\n    </tr>\n    <tr>\n      <th>168</th>\n      <td>2015030141</td>\n      <td>2015030141_202</td>\n      <td>5.0</td>\n      <td>3.0</td>\n      <td>Penalty</td>\n      <td>Tripping</td>\n      <td>80.0</td>\n      <td>-13.0</td>\n      <td>2</td>\n      <td>REGULAR</td>\n      <td>706</td>\n      <td>494.0</td>\n      <td>0</td>\n      <td>1</td>\n      <td>Trevor Daley Tripping against Rick Nash</td>\n      <td>8470041</td>\n      <td>Rick</td>\n      <td>Nash</td>\n    </tr>\n    <tr>\n      <th>...</th>\n      <td>...</td>\n      <td>...</td>\n      <td>...</td>\n      <td>...</td>\n      <td>...</td>\n      <td>...</td>\n      <td>...</td>\n      <td>...</td>\n      <td>...</td>\n      <td>...</td>\n      <td>...</td>\n      <td>...</td>\n      <td>...</td>\n      <td>...</td>\n      <td>...</td>\n      <td>...</td>\n      <td>...</td>\n      <td>...</td>\n    </tr>\n    <tr>\n      <th>13010</th>\n      <td>2015030416</td>\n      <td>2015030416_329</td>\n      <td>28.0</td>\n      <td>5.0</td>\n      <td>Penalty</td>\n      <td>Slashing</td>\n      <td>-35.0</td>\n      <td>11.0</td>\n      <td>3</td>\n      <td>REGULAR</td>\n      <td>662</td>\n      <td>538.0</td>\n      <td>2</td>\n      <td>1</td>\n      <td>Brent Burns Slashing against Phil Kessel</td>\n      <td>8473548</td>\n      <td>Phil</td>\n      <td>Kessel</td>\n    </tr>\n    <tr>\n      <th>13069</th>\n      <td>2015030416</td>\n      <td>2015030416_369</td>\n      <td>5.0</td>\n      <td>28.0</td>\n      <td>Penalty</td>\n      <td>Hi-sticking</td>\n      <td>32.0</td>\n      <td>4.0</td>\n      <td>3</td>\n      <td>REGULAR</td>\n      <td>1190</td>\n      <td>10.0</td>\n      <td>3</td>\n      <td>1</td>\n      <td>Eric Fehr Hi-sticking against Joe Pavelski</td>\n      <td>8470611</td>\n      <td>Eric</td>\n      <td>Fehr</td>\n    </tr>\n    <tr>\n      <th>13070</th>\n      <td>2015030416</td>\n      <td>2015030416_369</td>\n      <td>5.0</td>\n      <td>28.0</td>\n      <td>Penalty</td>\n      <td>Hi-sticking</td>\n      <td>32.0</td>\n      <td>4.0</td>\n      <td>3</td>\n      <td>REGULAR</td>\n      <td>1190</td>\n      <td>10.0</td>\n      <td>3</td>\n      <td>1</td>\n      <td>Eric Fehr Hi-sticking against Joe Pavelski</td>\n      <td>8470794</td>\n      <td>Joe</td>\n      <td>Pavelski</td>\n    </tr>\n    <tr>\n      <th>13094</th>\n      <td>2015030416</td>\n      <td>2015030416_51</td>\n      <td>28.0</td>\n      <td>5.0</td>\n      <td>Penalty</td>\n      <td>Tripping</td>\n      <td>-44.0</td>\n      <td>36.0</td>\n      <td>1</td>\n      <td>REGULAR</td>\n      <td>470</td>\n      <td>730.0</td>\n      <td>0</td>\n      <td>0</td>\n      <td>Dainius Zubrus Tripping against Brian Dumoulin</td>\n      <td>8464977</td>\n      <td>Dainius</td>\n      <td>Zubrus</td>\n    </tr>\n    <tr>\n      <th>13095</th>\n      <td>2015030416</td>\n      <td>2015030416_51</td>\n      <td>28.0</td>\n      <td>5.0</td>\n      <td>Penalty</td>\n      <td>Tripping</td>\n      <td>-44.0</td>\n      <td>36.0</td>\n      <td>1</td>\n      <td>REGULAR</td>\n      <td>470</td>\n      <td>730.0</td>\n      <td>0</td>\n      <td>0</td>\n      <td>Dainius Zubrus Tripping against Brian Dumoulin</td>\n      <td>8475208</td>\n      <td>Brian</td>\n      <td>Dumoulin</td>\n    </tr>\n  </tbody>\n</table>\n<p>350 rows × 18 columns</p>\n</div>"
     },
     "execution_count": 66,
     "metadata": {},
     "output_type": "execute_result"
    }
   ],
   "source": [
    "pens_201516_playoff_df[pens_201516_playoff_df['event']=='Penalty']"
   ],
   "metadata": {
    "collapsed": false,
    "ExecuteTime": {
     "end_time": "2023-11-04T02:57:30.139810Z",
     "start_time": "2023-11-04T02:57:30.119798400Z"
    }
   },
   "id": "4a852ebf490c2658"
  },
  {
   "cell_type": "code",
   "execution_count": 67,
   "outputs": [
    {
     "data": {
      "text/plain": "          game_id         play_id  team_id_for  team_id_against event  \\\n10     2015030141  2015030141_104          3.0              5.0  Shot   \n11     2015030141  2015030141_104          3.0              5.0  Shot   \n14     2015030141  2015030141_107          5.0              3.0  Shot   \n15     2015030141  2015030141_107          5.0              3.0  Shot   \n18     2015030141  2015030141_109          5.0              3.0  Shot   \n...           ...             ...          ...              ...   ...   \n13161  2015030416    2015030416_9          5.0             28.0  Shot   \n13169  2015030416   2015030416_95          5.0             28.0  Shot   \n13170  2015030416   2015030416_95          5.0             28.0  Shot   \n13173  2015030416   2015030416_97          5.0             28.0  Shot   \n13174  2015030416   2015030416_97          5.0             28.0  Shot   \n\n      secondaryType     x     y  period periodType  periodTime  \\\n10       Wrist Shot -80.0   6.0       1    REGULAR         997   \n11       Wrist Shot -80.0   6.0       1    REGULAR         997   \n14       Wrist Shot  34.0  21.0       1    REGULAR        1005   \n15       Wrist Shot  34.0  21.0       1    REGULAR        1005   \n18       Wrist Shot  54.0 -33.0       1    REGULAR        1014   \n...             ...   ...   ...     ...        ...         ...   \n13161     Slap Shot -34.0 -31.0       1    REGULAR          59   \n13169    Wrist Shot -61.0  -3.0       1    REGULAR         989   \n13170    Wrist Shot -61.0  -3.0       1    REGULAR         989   \n13173    Wrist Shot -86.0   9.0       1    REGULAR         994   \n13174    Wrist Shot -86.0   9.0       1    REGULAR         994   \n\n       periodTimeRemaining  goals_away  goals_home  \\\n10                   203.0           0           0   \n11                   203.0           0           0   \n14                   195.0           0           0   \n15                   195.0           0           0   \n18                   186.0           0           0   \n...                    ...         ...         ...   \n13161               1141.0           0           0   \n13169                211.0           1           0   \n13170                211.0           1           0   \n13173                206.0           1           0   \n13174                206.0           1           0   \n\n                                             description  player_id firstName  \\\n10           Eric Staal Wrist Shot saved by Jeff Zatkoff    8470595      Eric   \n11           Eric Staal Wrist Shot saved by Jeff Zatkoff    8473553      Jeff   \n14     Tom Kuhnhackl Wrist Shot saved by Henrik Lundq...    8468685    Henrik   \n15     Tom Kuhnhackl Wrist Shot saved by Henrik Lundq...    8475832       Tom   \n18        Eric Fehr Wrist Shot saved by Henrik Lundqvist    8468685    Henrik   \n...                                                  ...        ...       ...   \n13161        Olli Maatta Slap Shot saved by Martin Jones    8476874      Olli   \n13169     Sidney Crosby Wrist Shot saved by Martin Jones    8471675    Sidney   \n13170     Sidney Crosby Wrist Shot saved by Martin Jones    8474889    Martin   \n13173     Sidney Crosby Wrist Shot saved by Martin Jones    8471675    Sidney   \n13174     Sidney Crosby Wrist Shot saved by Martin Jones    8474889    Martin   \n\n        lastName  \n10         Staal  \n11       Zatkoff  \n14     Lundqvist  \n15     Kuhnhackl  \n18     Lundqvist  \n...          ...  \n13161     Maatta  \n13169     Crosby  \n13170      Jones  \n13173     Crosby  \n13174      Jones  \n\n[2766 rows x 18 columns]",
      "text/html": "<div>\n<style scoped>\n    .dataframe tbody tr th:only-of-type {\n        vertical-align: middle;\n    }\n\n    .dataframe tbody tr th {\n        vertical-align: top;\n    }\n\n    .dataframe thead th {\n        text-align: right;\n    }\n</style>\n<table border=\"1\" class=\"dataframe\">\n  <thead>\n    <tr style=\"text-align: right;\">\n      <th></th>\n      <th>game_id</th>\n      <th>play_id</th>\n      <th>team_id_for</th>\n      <th>team_id_against</th>\n      <th>event</th>\n      <th>secondaryType</th>\n      <th>x</th>\n      <th>y</th>\n      <th>period</th>\n      <th>periodType</th>\n      <th>periodTime</th>\n      <th>periodTimeRemaining</th>\n      <th>goals_away</th>\n      <th>goals_home</th>\n      <th>description</th>\n      <th>player_id</th>\n      <th>firstName</th>\n      <th>lastName</th>\n    </tr>\n  </thead>\n  <tbody>\n    <tr>\n      <th>10</th>\n      <td>2015030141</td>\n      <td>2015030141_104</td>\n      <td>3.0</td>\n      <td>5.0</td>\n      <td>Shot</td>\n      <td>Wrist Shot</td>\n      <td>-80.0</td>\n      <td>6.0</td>\n      <td>1</td>\n      <td>REGULAR</td>\n      <td>997</td>\n      <td>203.0</td>\n      <td>0</td>\n      <td>0</td>\n      <td>Eric Staal Wrist Shot saved by Jeff Zatkoff</td>\n      <td>8470595</td>\n      <td>Eric</td>\n      <td>Staal</td>\n    </tr>\n    <tr>\n      <th>11</th>\n      <td>2015030141</td>\n      <td>2015030141_104</td>\n      <td>3.0</td>\n      <td>5.0</td>\n      <td>Shot</td>\n      <td>Wrist Shot</td>\n      <td>-80.0</td>\n      <td>6.0</td>\n      <td>1</td>\n      <td>REGULAR</td>\n      <td>997</td>\n      <td>203.0</td>\n      <td>0</td>\n      <td>0</td>\n      <td>Eric Staal Wrist Shot saved by Jeff Zatkoff</td>\n      <td>8473553</td>\n      <td>Jeff</td>\n      <td>Zatkoff</td>\n    </tr>\n    <tr>\n      <th>14</th>\n      <td>2015030141</td>\n      <td>2015030141_107</td>\n      <td>5.0</td>\n      <td>3.0</td>\n      <td>Shot</td>\n      <td>Wrist Shot</td>\n      <td>34.0</td>\n      <td>21.0</td>\n      <td>1</td>\n      <td>REGULAR</td>\n      <td>1005</td>\n      <td>195.0</td>\n      <td>0</td>\n      <td>0</td>\n      <td>Tom Kuhnhackl Wrist Shot saved by Henrik Lundq...</td>\n      <td>8468685</td>\n      <td>Henrik</td>\n      <td>Lundqvist</td>\n    </tr>\n    <tr>\n      <th>15</th>\n      <td>2015030141</td>\n      <td>2015030141_107</td>\n      <td>5.0</td>\n      <td>3.0</td>\n      <td>Shot</td>\n      <td>Wrist Shot</td>\n      <td>34.0</td>\n      <td>21.0</td>\n      <td>1</td>\n      <td>REGULAR</td>\n      <td>1005</td>\n      <td>195.0</td>\n      <td>0</td>\n      <td>0</td>\n      <td>Tom Kuhnhackl Wrist Shot saved by Henrik Lundq...</td>\n      <td>8475832</td>\n      <td>Tom</td>\n      <td>Kuhnhackl</td>\n    </tr>\n    <tr>\n      <th>18</th>\n      <td>2015030141</td>\n      <td>2015030141_109</td>\n      <td>5.0</td>\n      <td>3.0</td>\n      <td>Shot</td>\n      <td>Wrist Shot</td>\n      <td>54.0</td>\n      <td>-33.0</td>\n      <td>1</td>\n      <td>REGULAR</td>\n      <td>1014</td>\n      <td>186.0</td>\n      <td>0</td>\n      <td>0</td>\n      <td>Eric Fehr Wrist Shot saved by Henrik Lundqvist</td>\n      <td>8468685</td>\n      <td>Henrik</td>\n      <td>Lundqvist</td>\n    </tr>\n    <tr>\n      <th>...</th>\n      <td>...</td>\n      <td>...</td>\n      <td>...</td>\n      <td>...</td>\n      <td>...</td>\n      <td>...</td>\n      <td>...</td>\n      <td>...</td>\n      <td>...</td>\n      <td>...</td>\n      <td>...</td>\n      <td>...</td>\n      <td>...</td>\n      <td>...</td>\n      <td>...</td>\n      <td>...</td>\n      <td>...</td>\n      <td>...</td>\n    </tr>\n    <tr>\n      <th>13161</th>\n      <td>2015030416</td>\n      <td>2015030416_9</td>\n      <td>5.0</td>\n      <td>28.0</td>\n      <td>Shot</td>\n      <td>Slap Shot</td>\n      <td>-34.0</td>\n      <td>-31.0</td>\n      <td>1</td>\n      <td>REGULAR</td>\n      <td>59</td>\n      <td>1141.0</td>\n      <td>0</td>\n      <td>0</td>\n      <td>Olli Maatta Slap Shot saved by Martin Jones</td>\n      <td>8476874</td>\n      <td>Olli</td>\n      <td>Maatta</td>\n    </tr>\n    <tr>\n      <th>13169</th>\n      <td>2015030416</td>\n      <td>2015030416_95</td>\n      <td>5.0</td>\n      <td>28.0</td>\n      <td>Shot</td>\n      <td>Wrist Shot</td>\n      <td>-61.0</td>\n      <td>-3.0</td>\n      <td>1</td>\n      <td>REGULAR</td>\n      <td>989</td>\n      <td>211.0</td>\n      <td>1</td>\n      <td>0</td>\n      <td>Sidney Crosby Wrist Shot saved by Martin Jones</td>\n      <td>8471675</td>\n      <td>Sidney</td>\n      <td>Crosby</td>\n    </tr>\n    <tr>\n      <th>13170</th>\n      <td>2015030416</td>\n      <td>2015030416_95</td>\n      <td>5.0</td>\n      <td>28.0</td>\n      <td>Shot</td>\n      <td>Wrist Shot</td>\n      <td>-61.0</td>\n      <td>-3.0</td>\n      <td>1</td>\n      <td>REGULAR</td>\n      <td>989</td>\n      <td>211.0</td>\n      <td>1</td>\n      <td>0</td>\n      <td>Sidney Crosby Wrist Shot saved by Martin Jones</td>\n      <td>8474889</td>\n      <td>Martin</td>\n      <td>Jones</td>\n    </tr>\n    <tr>\n      <th>13173</th>\n      <td>2015030416</td>\n      <td>2015030416_97</td>\n      <td>5.0</td>\n      <td>28.0</td>\n      <td>Shot</td>\n      <td>Wrist Shot</td>\n      <td>-86.0</td>\n      <td>9.0</td>\n      <td>1</td>\n      <td>REGULAR</td>\n      <td>994</td>\n      <td>206.0</td>\n      <td>1</td>\n      <td>0</td>\n      <td>Sidney Crosby Wrist Shot saved by Martin Jones</td>\n      <td>8471675</td>\n      <td>Sidney</td>\n      <td>Crosby</td>\n    </tr>\n    <tr>\n      <th>13174</th>\n      <td>2015030416</td>\n      <td>2015030416_97</td>\n      <td>5.0</td>\n      <td>28.0</td>\n      <td>Shot</td>\n      <td>Wrist Shot</td>\n      <td>-86.0</td>\n      <td>9.0</td>\n      <td>1</td>\n      <td>REGULAR</td>\n      <td>994</td>\n      <td>206.0</td>\n      <td>1</td>\n      <td>0</td>\n      <td>Sidney Crosby Wrist Shot saved by Martin Jones</td>\n      <td>8474889</td>\n      <td>Martin</td>\n      <td>Jones</td>\n    </tr>\n  </tbody>\n</table>\n<p>2766 rows × 18 columns</p>\n</div>"
     },
     "execution_count": 67,
     "metadata": {},
     "output_type": "execute_result"
    }
   ],
   "source": [
    "pens_201516_playoff_df[pens_201516_playoff_df['event']=='Shot']"
   ],
   "metadata": {
    "collapsed": false,
    "ExecuteTime": {
     "end_time": "2023-11-04T02:57:31.240733400Z",
     "start_time": "2023-11-04T02:57:31.228758400Z"
    }
   },
   "id": "482090b2398996a1"
  },
  {
   "cell_type": "markdown",
   "source": [
    "After seeing that 73% of secondaryType rows are NULL, I was initially tempted to drop the column entirely.\n",
    "However, after taking a look at what the unique values are it occured to me that the entries mostly correspond with Shots and Penalties.\n",
    "Because this information could be very useful, I want to keep the column for now."
   ],
   "metadata": {
    "collapsed": false
   },
   "id": "72ef54a8ca2a7728"
  },
  {
   "cell_type": "markdown",
   "source": [
    "### What now? What am I looking for?\n",
    "I'm curious about the plays and player stats for the 3rd Line. \n",
    "For the Playoffs, this was: Carl Hagelin, Nick Bonino, and Phil Kessel (well-known as the 'HBK line')"
   ],
   "metadata": {
    "collapsed": false
   },
   "id": "b1de16c0ee6ea2a4"
  },
  {
   "cell_type": "code",
   "execution_count": 71,
   "outputs": [
    {
     "data": {
      "text/plain": "        game_id         play_id  team_id_for  team_id_against         event  \\\n2    2015030141  2015030141_100          3.0              5.0           Hit   \n9    2015030141  2015030141_103          5.0              3.0           Hit   \n21   2015030141   2015030141_11          5.0              3.0          Shot   \n35   2015030141   2015030141_12          5.0              3.0           Hit   \n71   2015030141  2015030141_141          5.0              3.0   Missed Shot   \n77   2015030141  2015030141_145          3.0              5.0       Faceoff   \n115  2015030141  2015030141_171          3.0              5.0       Faceoff   \n117  2015030141  2015030141_173          5.0              3.0       Faceoff   \n123  2015030141  2015030141_176          5.0              3.0           Hit   \n127  2015030141  2015030141_179          3.0              5.0       Faceoff   \n158  2015030141  2015030141_196          3.0              5.0  Blocked Shot   \n160  2015030141  2015030141_198          5.0              3.0   Missed Shot   \n165  2015030141  2015030141_200          5.0              3.0   Missed Shot   \n166  2015030141  2015030141_201          5.0              3.0          Shot   \n177  2015030141  2015030141_207          5.0              3.0  Blocked Shot   \n211  2015030141  2015030141_228          5.0              3.0       Faceoff   \n214  2015030141  2015030141_229          5.0              3.0           Hit   \n217  2015030141  2015030141_230          5.0              3.0          Shot   \n239  2015030141  2015030141_242          5.0              3.0       Faceoff   \n260  2015030141   2015030141_26          5.0              3.0       Faceoff   \n263  2015030141  2015030141_260          3.0              5.0       Faceoff   \n266  2015030141  2015030141_262          5.0              3.0  Blocked Shot   \n270  2015030141  2015030141_264          5.0              3.0       Penalty   \n275  2015030141  2015030141_266          5.0              3.0       Faceoff   \n281  2015030141  2015030141_270          3.0              5.0       Faceoff   \n\n               secondaryType     x     y  period periodType  periodTime  \\\n2                       None -98.0  30.0       1    REGULAR         978   \n9                       None -48.0  40.0       1    REGULAR         992   \n21                 Snap Shot  45.0 -19.0       1    REGULAR         115   \n35                      None -13.0  37.0       1    REGULAR         121   \n71                      None -61.0  35.0       2    REGULAR          41   \n77                      None   0.0   0.0       2    REGULAR          78   \n115                     None -20.0  22.0       2    REGULAR         333   \n117                     None -69.0 -22.0       2    REGULAR         343   \n123                     None  87.0  40.0       2    REGULAR         365   \n127                     None  69.0  22.0       2    REGULAR         376   \n158                     None -64.0 -15.0       2    REGULAR         626   \n160                     None -60.0 -16.0       2    REGULAR         658   \n165                     None -73.0   7.0       2    REGULAR         680   \n166               Wrist Shot -58.0  -6.0       2    REGULAR         692   \n177                     None  49.0  -7.0       2    REGULAR         786   \n211                     None -20.0  22.0       2    REGULAR        1059   \n214                     None -86.0  40.0       2    REGULAR        1067   \n217                   Tip-In -61.0  -3.0       2    REGULAR        1086   \n239                     None -20.0 -22.0       2    REGULAR        1167   \n260                     None -69.0  22.0       1    REGULAR         219   \n263                     None -20.0 -22.0       3    REGULAR         109   \n266                     None -78.0 -14.0       3    REGULAR         125   \n270  Hi stick - double minor -80.0 -39.0       3    REGULAR         128   \n275                     None -69.0 -22.0       3    REGULAR         128   \n281                     None -69.0  22.0       3    REGULAR         145   \n\n     periodTimeRemaining  goals_away  goals_home  \\\n2                  222.0           0           0   \n9                  208.0           0           0   \n21                1085.0           0           0   \n35                1079.0           0           0   \n71                1159.0           0           1   \n77                1122.0           0           1   \n115                867.0           0           1   \n117                857.0           0           1   \n123                835.0           0           1   \n127                824.0           0           1   \n158                574.0           0           1   \n160                542.0           0           1   \n165                520.0           0           1   \n166                508.0           0           1   \n177                414.0           0           1   \n211                141.0           0           1   \n214                133.0           0           1   \n217                114.0           0           1   \n239                 33.0           0           2   \n260                981.0           0           0   \n263               1091.0           0           2   \n266               1075.0           0           2   \n270               1072.0           0           2   \n275               1072.0           0           2   \n281               1055.0           0           2   \n\n                                           description  player_id firstName  \\\n2                         Jesper Fast hit Carl Hagelin    8474176      Carl   \n9                         Carl Hagelin hit Kevin Klein    8474176      Carl   \n21     Phil Kessel Snap Shot saved by Henrik Lundqvist    8473548      Phil   \n35                         Phil Kessel hit Kevin Hayes    8473548      Phil   \n71                           Phil Kessel - Wide of Net    8473548      Phil   \n77        Tanner Glass faceoff won against Nick Bonino    8474009      Nick   \n115      Dominic Moore faceoff won against Nick Bonino    8474009      Nick   \n117      Nick Bonino faceoff won against Dominic Moore    8474009      Nick   \n123                      Nick Bonino hit Dominic Moore    8474009      Nick   \n127         Eric Staal faceoff won against Nick Bonino    8474009      Nick   \n158            Rick Nash blocked shot from Phil Kessel    8473548      Phil   \n160                          Phil Kessel - Wide of Net    8473548      Phil   \n165                          Phil Kessel - Wide of Net    8473548      Phil   \n166       Phil Kessel Wrist Shot saved by Antti Raanta    8473548      Phil   \n177        Carl Hagelin blocked shot from Keith Yandle    8474176      Carl   \n211       Nick Bonino faceoff won against Derek Stepan    8474009      Nick   \n214                       Nick Bonino hit Keith Yandle    8474009      Nick   \n217          Carl Hagelin Tip-In saved by Antti Raanta    8474176      Carl   \n239      Nick Bonino faceoff won against Dominic Moore    8474009      Nick   \n260        Nick Bonino faceoff won against Kevin Hayes    8474009      Nick   \n263         Eric Staal faceoff won against Nick Bonino    8474009      Nick   \n266          Nick Bonino blocked shot from Kevin Hayes    8474009      Nick   \n270  Carl Hagelin Hi stick - double minor against K...    8474176      Carl   \n275    Nick Bonino faceoff won against Derick Brassard    8474009      Nick   \n281       Derek Stepan faceoff won against Nick Bonino    8474009      Nick   \n\n    lastName  \n2    Hagelin  \n9    Hagelin  \n21    Kessel  \n35    Kessel  \n71    Kessel  \n77    Bonino  \n115   Bonino  \n117   Bonino  \n123   Bonino  \n127   Bonino  \n158   Kessel  \n160   Kessel  \n165   Kessel  \n166   Kessel  \n177  Hagelin  \n211   Bonino  \n214   Bonino  \n217  Hagelin  \n239   Bonino  \n260   Bonino  \n263   Bonino  \n266   Bonino  \n270  Hagelin  \n275   Bonino  \n281   Bonino  ",
      "text/html": "<div>\n<style scoped>\n    .dataframe tbody tr th:only-of-type {\n        vertical-align: middle;\n    }\n\n    .dataframe tbody tr th {\n        vertical-align: top;\n    }\n\n    .dataframe thead th {\n        text-align: right;\n    }\n</style>\n<table border=\"1\" class=\"dataframe\">\n  <thead>\n    <tr style=\"text-align: right;\">\n      <th></th>\n      <th>game_id</th>\n      <th>play_id</th>\n      <th>team_id_for</th>\n      <th>team_id_against</th>\n      <th>event</th>\n      <th>secondaryType</th>\n      <th>x</th>\n      <th>y</th>\n      <th>period</th>\n      <th>periodType</th>\n      <th>periodTime</th>\n      <th>periodTimeRemaining</th>\n      <th>goals_away</th>\n      <th>goals_home</th>\n      <th>description</th>\n      <th>player_id</th>\n      <th>firstName</th>\n      <th>lastName</th>\n    </tr>\n  </thead>\n  <tbody>\n    <tr>\n      <th>2</th>\n      <td>2015030141</td>\n      <td>2015030141_100</td>\n      <td>3.0</td>\n      <td>5.0</td>\n      <td>Hit</td>\n      <td>None</td>\n      <td>-98.0</td>\n      <td>30.0</td>\n      <td>1</td>\n      <td>REGULAR</td>\n      <td>978</td>\n      <td>222.0</td>\n      <td>0</td>\n      <td>0</td>\n      <td>Jesper Fast hit Carl Hagelin</td>\n      <td>8474176</td>\n      <td>Carl</td>\n      <td>Hagelin</td>\n    </tr>\n    <tr>\n      <th>9</th>\n      <td>2015030141</td>\n      <td>2015030141_103</td>\n      <td>5.0</td>\n      <td>3.0</td>\n      <td>Hit</td>\n      <td>None</td>\n      <td>-48.0</td>\n      <td>40.0</td>\n      <td>1</td>\n      <td>REGULAR</td>\n      <td>992</td>\n      <td>208.0</td>\n      <td>0</td>\n      <td>0</td>\n      <td>Carl Hagelin hit Kevin Klein</td>\n      <td>8474176</td>\n      <td>Carl</td>\n      <td>Hagelin</td>\n    </tr>\n    <tr>\n      <th>21</th>\n      <td>2015030141</td>\n      <td>2015030141_11</td>\n      <td>5.0</td>\n      <td>3.0</td>\n      <td>Shot</td>\n      <td>Snap Shot</td>\n      <td>45.0</td>\n      <td>-19.0</td>\n      <td>1</td>\n      <td>REGULAR</td>\n      <td>115</td>\n      <td>1085.0</td>\n      <td>0</td>\n      <td>0</td>\n      <td>Phil Kessel Snap Shot saved by Henrik Lundqvist</td>\n      <td>8473548</td>\n      <td>Phil</td>\n      <td>Kessel</td>\n    </tr>\n    <tr>\n      <th>35</th>\n      <td>2015030141</td>\n      <td>2015030141_12</td>\n      <td>5.0</td>\n      <td>3.0</td>\n      <td>Hit</td>\n      <td>None</td>\n      <td>-13.0</td>\n      <td>37.0</td>\n      <td>1</td>\n      <td>REGULAR</td>\n      <td>121</td>\n      <td>1079.0</td>\n      <td>0</td>\n      <td>0</td>\n      <td>Phil Kessel hit Kevin Hayes</td>\n      <td>8473548</td>\n      <td>Phil</td>\n      <td>Kessel</td>\n    </tr>\n    <tr>\n      <th>71</th>\n      <td>2015030141</td>\n      <td>2015030141_141</td>\n      <td>5.0</td>\n      <td>3.0</td>\n      <td>Missed Shot</td>\n      <td>None</td>\n      <td>-61.0</td>\n      <td>35.0</td>\n      <td>2</td>\n      <td>REGULAR</td>\n      <td>41</td>\n      <td>1159.0</td>\n      <td>0</td>\n      <td>1</td>\n      <td>Phil Kessel - Wide of Net</td>\n      <td>8473548</td>\n      <td>Phil</td>\n      <td>Kessel</td>\n    </tr>\n    <tr>\n      <th>77</th>\n      <td>2015030141</td>\n      <td>2015030141_145</td>\n      <td>3.0</td>\n      <td>5.0</td>\n      <td>Faceoff</td>\n      <td>None</td>\n      <td>0.0</td>\n      <td>0.0</td>\n      <td>2</td>\n      <td>REGULAR</td>\n      <td>78</td>\n      <td>1122.0</td>\n      <td>0</td>\n      <td>1</td>\n      <td>Tanner Glass faceoff won against Nick Bonino</td>\n      <td>8474009</td>\n      <td>Nick</td>\n      <td>Bonino</td>\n    </tr>\n    <tr>\n      <th>115</th>\n      <td>2015030141</td>\n      <td>2015030141_171</td>\n      <td>3.0</td>\n      <td>5.0</td>\n      <td>Faceoff</td>\n      <td>None</td>\n      <td>-20.0</td>\n      <td>22.0</td>\n      <td>2</td>\n      <td>REGULAR</td>\n      <td>333</td>\n      <td>867.0</td>\n      <td>0</td>\n      <td>1</td>\n      <td>Dominic Moore faceoff won against Nick Bonino</td>\n      <td>8474009</td>\n      <td>Nick</td>\n      <td>Bonino</td>\n    </tr>\n    <tr>\n      <th>117</th>\n      <td>2015030141</td>\n      <td>2015030141_173</td>\n      <td>5.0</td>\n      <td>3.0</td>\n      <td>Faceoff</td>\n      <td>None</td>\n      <td>-69.0</td>\n      <td>-22.0</td>\n      <td>2</td>\n      <td>REGULAR</td>\n      <td>343</td>\n      <td>857.0</td>\n      <td>0</td>\n      <td>1</td>\n      <td>Nick Bonino faceoff won against Dominic Moore</td>\n      <td>8474009</td>\n      <td>Nick</td>\n      <td>Bonino</td>\n    </tr>\n    <tr>\n      <th>123</th>\n      <td>2015030141</td>\n      <td>2015030141_176</td>\n      <td>5.0</td>\n      <td>3.0</td>\n      <td>Hit</td>\n      <td>None</td>\n      <td>87.0</td>\n      <td>40.0</td>\n      <td>2</td>\n      <td>REGULAR</td>\n      <td>365</td>\n      <td>835.0</td>\n      <td>0</td>\n      <td>1</td>\n      <td>Nick Bonino hit Dominic Moore</td>\n      <td>8474009</td>\n      <td>Nick</td>\n      <td>Bonino</td>\n    </tr>\n    <tr>\n      <th>127</th>\n      <td>2015030141</td>\n      <td>2015030141_179</td>\n      <td>3.0</td>\n      <td>5.0</td>\n      <td>Faceoff</td>\n      <td>None</td>\n      <td>69.0</td>\n      <td>22.0</td>\n      <td>2</td>\n      <td>REGULAR</td>\n      <td>376</td>\n      <td>824.0</td>\n      <td>0</td>\n      <td>1</td>\n      <td>Eric Staal faceoff won against Nick Bonino</td>\n      <td>8474009</td>\n      <td>Nick</td>\n      <td>Bonino</td>\n    </tr>\n    <tr>\n      <th>158</th>\n      <td>2015030141</td>\n      <td>2015030141_196</td>\n      <td>3.0</td>\n      <td>5.0</td>\n      <td>Blocked Shot</td>\n      <td>None</td>\n      <td>-64.0</td>\n      <td>-15.0</td>\n      <td>2</td>\n      <td>REGULAR</td>\n      <td>626</td>\n      <td>574.0</td>\n      <td>0</td>\n      <td>1</td>\n      <td>Rick Nash blocked shot from Phil Kessel</td>\n      <td>8473548</td>\n      <td>Phil</td>\n      <td>Kessel</td>\n    </tr>\n    <tr>\n      <th>160</th>\n      <td>2015030141</td>\n      <td>2015030141_198</td>\n      <td>5.0</td>\n      <td>3.0</td>\n      <td>Missed Shot</td>\n      <td>None</td>\n      <td>-60.0</td>\n      <td>-16.0</td>\n      <td>2</td>\n      <td>REGULAR</td>\n      <td>658</td>\n      <td>542.0</td>\n      <td>0</td>\n      <td>1</td>\n      <td>Phil Kessel - Wide of Net</td>\n      <td>8473548</td>\n      <td>Phil</td>\n      <td>Kessel</td>\n    </tr>\n    <tr>\n      <th>165</th>\n      <td>2015030141</td>\n      <td>2015030141_200</td>\n      <td>5.0</td>\n      <td>3.0</td>\n      <td>Missed Shot</td>\n      <td>None</td>\n      <td>-73.0</td>\n      <td>7.0</td>\n      <td>2</td>\n      <td>REGULAR</td>\n      <td>680</td>\n      <td>520.0</td>\n      <td>0</td>\n      <td>1</td>\n      <td>Phil Kessel - Wide of Net</td>\n      <td>8473548</td>\n      <td>Phil</td>\n      <td>Kessel</td>\n    </tr>\n    <tr>\n      <th>166</th>\n      <td>2015030141</td>\n      <td>2015030141_201</td>\n      <td>5.0</td>\n      <td>3.0</td>\n      <td>Shot</td>\n      <td>Wrist Shot</td>\n      <td>-58.0</td>\n      <td>-6.0</td>\n      <td>2</td>\n      <td>REGULAR</td>\n      <td>692</td>\n      <td>508.0</td>\n      <td>0</td>\n      <td>1</td>\n      <td>Phil Kessel Wrist Shot saved by Antti Raanta</td>\n      <td>8473548</td>\n      <td>Phil</td>\n      <td>Kessel</td>\n    </tr>\n    <tr>\n      <th>177</th>\n      <td>2015030141</td>\n      <td>2015030141_207</td>\n      <td>5.0</td>\n      <td>3.0</td>\n      <td>Blocked Shot</td>\n      <td>None</td>\n      <td>49.0</td>\n      <td>-7.0</td>\n      <td>2</td>\n      <td>REGULAR</td>\n      <td>786</td>\n      <td>414.0</td>\n      <td>0</td>\n      <td>1</td>\n      <td>Carl Hagelin blocked shot from Keith Yandle</td>\n      <td>8474176</td>\n      <td>Carl</td>\n      <td>Hagelin</td>\n    </tr>\n    <tr>\n      <th>211</th>\n      <td>2015030141</td>\n      <td>2015030141_228</td>\n      <td>5.0</td>\n      <td>3.0</td>\n      <td>Faceoff</td>\n      <td>None</td>\n      <td>-20.0</td>\n      <td>22.0</td>\n      <td>2</td>\n      <td>REGULAR</td>\n      <td>1059</td>\n      <td>141.0</td>\n      <td>0</td>\n      <td>1</td>\n      <td>Nick Bonino faceoff won against Derek Stepan</td>\n      <td>8474009</td>\n      <td>Nick</td>\n      <td>Bonino</td>\n    </tr>\n    <tr>\n      <th>214</th>\n      <td>2015030141</td>\n      <td>2015030141_229</td>\n      <td>5.0</td>\n      <td>3.0</td>\n      <td>Hit</td>\n      <td>None</td>\n      <td>-86.0</td>\n      <td>40.0</td>\n      <td>2</td>\n      <td>REGULAR</td>\n      <td>1067</td>\n      <td>133.0</td>\n      <td>0</td>\n      <td>1</td>\n      <td>Nick Bonino hit Keith Yandle</td>\n      <td>8474009</td>\n      <td>Nick</td>\n      <td>Bonino</td>\n    </tr>\n    <tr>\n      <th>217</th>\n      <td>2015030141</td>\n      <td>2015030141_230</td>\n      <td>5.0</td>\n      <td>3.0</td>\n      <td>Shot</td>\n      <td>Tip-In</td>\n      <td>-61.0</td>\n      <td>-3.0</td>\n      <td>2</td>\n      <td>REGULAR</td>\n      <td>1086</td>\n      <td>114.0</td>\n      <td>0</td>\n      <td>1</td>\n      <td>Carl Hagelin Tip-In saved by Antti Raanta</td>\n      <td>8474176</td>\n      <td>Carl</td>\n      <td>Hagelin</td>\n    </tr>\n    <tr>\n      <th>239</th>\n      <td>2015030141</td>\n      <td>2015030141_242</td>\n      <td>5.0</td>\n      <td>3.0</td>\n      <td>Faceoff</td>\n      <td>None</td>\n      <td>-20.0</td>\n      <td>-22.0</td>\n      <td>2</td>\n      <td>REGULAR</td>\n      <td>1167</td>\n      <td>33.0</td>\n      <td>0</td>\n      <td>2</td>\n      <td>Nick Bonino faceoff won against Dominic Moore</td>\n      <td>8474009</td>\n      <td>Nick</td>\n      <td>Bonino</td>\n    </tr>\n    <tr>\n      <th>260</th>\n      <td>2015030141</td>\n      <td>2015030141_26</td>\n      <td>5.0</td>\n      <td>3.0</td>\n      <td>Faceoff</td>\n      <td>None</td>\n      <td>-69.0</td>\n      <td>22.0</td>\n      <td>1</td>\n      <td>REGULAR</td>\n      <td>219</td>\n      <td>981.0</td>\n      <td>0</td>\n      <td>0</td>\n      <td>Nick Bonino faceoff won against Kevin Hayes</td>\n      <td>8474009</td>\n      <td>Nick</td>\n      <td>Bonino</td>\n    </tr>\n    <tr>\n      <th>263</th>\n      <td>2015030141</td>\n      <td>2015030141_260</td>\n      <td>3.0</td>\n      <td>5.0</td>\n      <td>Faceoff</td>\n      <td>None</td>\n      <td>-20.0</td>\n      <td>-22.0</td>\n      <td>3</td>\n      <td>REGULAR</td>\n      <td>109</td>\n      <td>1091.0</td>\n      <td>0</td>\n      <td>2</td>\n      <td>Eric Staal faceoff won against Nick Bonino</td>\n      <td>8474009</td>\n      <td>Nick</td>\n      <td>Bonino</td>\n    </tr>\n    <tr>\n      <th>266</th>\n      <td>2015030141</td>\n      <td>2015030141_262</td>\n      <td>5.0</td>\n      <td>3.0</td>\n      <td>Blocked Shot</td>\n      <td>None</td>\n      <td>-78.0</td>\n      <td>-14.0</td>\n      <td>3</td>\n      <td>REGULAR</td>\n      <td>125</td>\n      <td>1075.0</td>\n      <td>0</td>\n      <td>2</td>\n      <td>Nick Bonino blocked shot from Kevin Hayes</td>\n      <td>8474009</td>\n      <td>Nick</td>\n      <td>Bonino</td>\n    </tr>\n    <tr>\n      <th>270</th>\n      <td>2015030141</td>\n      <td>2015030141_264</td>\n      <td>5.0</td>\n      <td>3.0</td>\n      <td>Penalty</td>\n      <td>Hi stick - double minor</td>\n      <td>-80.0</td>\n      <td>-39.0</td>\n      <td>3</td>\n      <td>REGULAR</td>\n      <td>128</td>\n      <td>1072.0</td>\n      <td>0</td>\n      <td>2</td>\n      <td>Carl Hagelin Hi stick - double minor against K...</td>\n      <td>8474176</td>\n      <td>Carl</td>\n      <td>Hagelin</td>\n    </tr>\n    <tr>\n      <th>275</th>\n      <td>2015030141</td>\n      <td>2015030141_266</td>\n      <td>5.0</td>\n      <td>3.0</td>\n      <td>Faceoff</td>\n      <td>None</td>\n      <td>-69.0</td>\n      <td>-22.0</td>\n      <td>3</td>\n      <td>REGULAR</td>\n      <td>128</td>\n      <td>1072.0</td>\n      <td>0</td>\n      <td>2</td>\n      <td>Nick Bonino faceoff won against Derick Brassard</td>\n      <td>8474009</td>\n      <td>Nick</td>\n      <td>Bonino</td>\n    </tr>\n    <tr>\n      <th>281</th>\n      <td>2015030141</td>\n      <td>2015030141_270</td>\n      <td>3.0</td>\n      <td>5.0</td>\n      <td>Faceoff</td>\n      <td>None</td>\n      <td>-69.0</td>\n      <td>22.0</td>\n      <td>3</td>\n      <td>REGULAR</td>\n      <td>145</td>\n      <td>1055.0</td>\n      <td>0</td>\n      <td>2</td>\n      <td>Derek Stepan faceoff won against Nick Bonino</td>\n      <td>8474009</td>\n      <td>Nick</td>\n      <td>Bonino</td>\n    </tr>\n  </tbody>\n</table>\n</div>"
     },
     "execution_count": 71,
     "metadata": {},
     "output_type": "execute_result"
    }
   ],
   "source": [
    "HBK_line_201516_playoff_df = pens_201516_playoff_df[pens_201516_playoff_df['lastName'].isin(['Hagelin','Bonino','Kessel'])]\n",
    "HBK_line_201516_playoff_df.head(25)"
   ],
   "metadata": {
    "collapsed": false,
    "ExecuteTime": {
     "end_time": "2023-11-04T03:06:57.005048900Z",
     "start_time": "2023-11-04T03:06:56.989622700Z"
    }
   },
   "id": "59bdf9daff47efa3"
  },
  {
   "cell_type": "markdown",
   "source": [
    "Unfortunately, specifics of the event outcomes is written in text in the description. This might be a potential place for text analysis, either with string searches or sentiment analysis, to better store the information later. "
   ],
   "metadata": {
    "collapsed": false
   },
   "id": "f16a127602561d8b"
  },
  {
   "cell_type": "markdown",
   "source": [
    "### This DataFrame is now very useful, but what I still need are more detailed stats for each game_id for both the team as a whole and these players. "
   ],
   "metadata": {
    "collapsed": false
   },
   "id": "59af1c332917975"
  },
  {
   "cell_type": "code",
   "execution_count": null,
   "outputs": [],
   "source": [],
   "metadata": {
    "collapsed": false
   },
   "id": "8c0f4b0de1e5cbda"
  }
 ],
 "metadata": {
  "kernelspec": {
   "display_name": "Python 3",
   "language": "python",
   "name": "python3"
  },
  "language_info": {
   "codemirror_mode": {
    "name": "ipython",
    "version": 2
   },
   "file_extension": ".py",
   "mimetype": "text/x-python",
   "name": "python",
   "nbconvert_exporter": "python",
   "pygments_lexer": "ipython2",
   "version": "2.7.6"
  }
 },
 "nbformat": 4,
 "nbformat_minor": 5
}
