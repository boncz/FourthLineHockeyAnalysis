{
 "cells": [
  {
   "cell_type": "code",
   "execution_count": 10,
   "id": "initial_id",
   "metadata": {
    "collapsed": true,
    "ExecuteTime": {
     "end_time": "2023-11-03T03:16:50.666473800Z",
     "start_time": "2023-11-03T03:16:50.633877400Z"
    }
   },
   "outputs": [],
   "source": [
    "import pandas as pd\n",
    "import sqlite3"
   ]
  },
  {
   "cell_type": "markdown",
   "source": [
    "# Create A SQL database using a collection of csv files:\n",
    "-----\n",
    "### This function will take a list of csv files, and compile a single SQL database, each csv file as a table. \n",
    "\n",
    "This is particularly useful when there are many different files that need to be connected in multiple ways before analysis can happen. Using a SQL query, a DataFrame with only the wanted information can be found and then manipulated using pandas."
   ],
   "metadata": {
    "collapsed": false
   },
   "id": "aa98ef98585961c6"
  },
  {
   "cell_type": "code",
   "execution_count": 11,
   "outputs": [],
   "source": [
    "def create_sql_database(list_of_files, db_name):\n",
    "    conn = sqlite3.connect(db_name)\n",
    "    for file in list_of_files:\n",
    "        df = pd.read_csv(file, low_memory=False)\n",
    "        df.to_sql(name = file.replace('.csv',''), con = conn, if_exists='replace', index=False)\n",
    "    conn.commit()\n",
    "    conn.close()"
   ],
   "metadata": {
    "collapsed": false,
    "ExecuteTime": {
     "end_time": "2023-11-03T03:16:50.715547500Z",
     "start_time": "2023-11-03T03:16:50.653921Z"
    }
   },
   "id": "8745617394d372f8"
  },
  {
   "cell_type": "markdown",
   "source": [
    "# NHL Game Data\n",
    "---------\n",
    "## This collection of hockey data files was found on Kaggle:\n",
    "### https://www.kaggle.com/datasets/martinellis/nhl-game-data\n",
    "Some unwanted files were dropped, though most remain. A diagram of the table relationships can be found in the table_relationships.JPG file."
   ],
   "metadata": {
    "collapsed": false
   },
   "id": "8e1eedb5ed8f8fb6"
  },
  {
   "cell_type": "code",
   "execution_count": 12,
   "outputs": [],
   "source": [
    "nhl_data_files = ['game.csv','game_goalie_stats.csv','game_goals.csv', 'game_penalties.csv','game_plays.csv','game_plays_players.csv', 'game_shifts.csv','game_skater_stats.csv','game_teams_stats.csv','player_info.csv','team_info.csv']"
   ],
   "metadata": {
    "collapsed": false,
    "ExecuteTime": {
     "end_time": "2023-11-03T03:16:50.774229400Z",
     "start_time": "2023-11-03T03:16:50.715547500Z"
    }
   },
   "id": "494970852022a7e5"
  },
  {
   "cell_type": "markdown",
   "source": [
    "## Constructing the initial SQL database for the project\n",
    "### With just one function below, a new NHL_data database is created to use for this project's analysis."
   ],
   "metadata": {
    "collapsed": false
   },
   "id": "6af345686fd676ef"
  },
  {
   "cell_type": "code",
   "execution_count": 13,
   "outputs": [],
   "source": [
    "create_sql_database(nhl_data_files, 'NHL_data.db')"
   ],
   "metadata": {
    "collapsed": false,
    "ExecuteTime": {
     "end_time": "2023-11-03T03:18:00.974131100Z",
     "start_time": "2023-11-03T03:16:50.775729700Z"
    }
   },
   "id": "e95e98422addb5b8"
  },
  {
   "cell_type": "markdown",
   "source": [
    "Verify that everything is successful by printing the table names below:"
   ],
   "metadata": {
    "collapsed": false
   },
   "id": "2c9ba9e8fff398af"
  },
  {
   "cell_type": "code",
   "execution_count": 14,
   "outputs": [
    {
     "name": "stdout",
     "output_type": "stream",
     "text": [
      "List of tables\n",
      "\n",
      "[('game',), ('game_goalie_stats',), ('game_goals',), ('game_penalties',), ('game_plays',), ('game_plays_players',), ('game_shifts',), ('game_skater_stats',), ('game_teams_stats',), ('player_info',), ('team_info',)]\n"
     ]
    }
   ],
   "source": [
    "table_test_query = \"\"\"\n",
    "    SELECT name FROM sqlite_master \n",
    "    WHERE type='table';\n",
    "    \"\"\"\n",
    "conn = sqlite3.connect('NHL_data.db')\n",
    "cur = conn.cursor()\n",
    "cur.execute(table_test_query)\n",
    "print(\"List of tables\\n\")\n",
    "# printing all tables list\n",
    "print(cur.fetchall())"
   ],
   "metadata": {
    "collapsed": false,
    "ExecuteTime": {
     "end_time": "2023-11-03T03:18:00.979875800Z",
     "start_time": "2023-11-03T03:18:00.975127900Z"
    }
   },
   "id": "a9a77b459ae356e"
  }
 ],
 "metadata": {
  "kernelspec": {
   "display_name": "Python 3",
   "language": "python",
   "name": "python3"
  },
  "language_info": {
   "codemirror_mode": {
    "name": "ipython",
    "version": 2
   },
   "file_extension": ".py",
   "mimetype": "text/x-python",
   "name": "python",
   "nbconvert_exporter": "python",
   "pygments_lexer": "ipython2",
   "version": "2.7.6"
  }
 },
 "nbformat": 4,
 "nbformat_minor": 5
}
