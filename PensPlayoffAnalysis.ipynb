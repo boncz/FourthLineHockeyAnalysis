{
 "cells": [
  {
   "cell_type": "code",
   "execution_count": 2,
   "id": "initial_id",
   "metadata": {
    "collapsed": true,
    "ExecuteTime": {
     "end_time": "2023-11-04T01:58:32.730777400Z",
     "start_time": "2023-11-04T01:58:32.222083300Z"
    }
   },
   "outputs": [],
   "source": [
    "import pandas as pd\n",
    "import sqlite3"
   ]
  },
  {
   "cell_type": "code",
   "execution_count": 3,
   "outputs": [],
   "source": [
    "playoff_20152016_data_query = ('''\n",
    "SELECT game.game_id, game_plays.*, game_plays_players.player_id FROM game\n",
    "JOIN game_plays ON game.game_id = game_plays.game_id\n",
    "JOIN game_plays_players ON game_plays.play_id = game_plays_players.play_id\n",
    "WHERE game.type = 'P'\n",
    "    AND game.season = 20152016\n",
    "    AND (\n",
    "        game.home_team_id = 5\n",
    "        OR\n",
    "        game.away_team_id = 5\n",
    "        );\n",
    "''')"
   ],
   "metadata": {
    "collapsed": false,
    "ExecuteTime": {
     "end_time": "2023-11-04T01:58:34.267819700Z",
     "start_time": "2023-11-04T01:58:34.265315400Z"
    }
   },
   "id": "29351929c095058a"
  },
  {
   "cell_type": "code",
   "execution_count": 4,
   "outputs": [],
   "source": [
    "conn = sqlite3.connect('NHL_data.db')"
   ],
   "metadata": {
    "collapsed": false,
    "ExecuteTime": {
     "end_time": "2023-11-04T01:58:58.621761500Z",
     "start_time": "2023-11-04T01:58:58.617414Z"
    }
   },
   "id": "14af5ad132dead54"
  },
  {
   "cell_type": "code",
   "execution_count": 5,
   "outputs": [],
   "source": [
    "pens_201516_playoff_df = pd.read_sql_query(playoff_20152016_data_query, conn)"
   ],
   "metadata": {
    "collapsed": false,
    "ExecuteTime": {
     "end_time": "2023-11-04T01:59:20.630931500Z",
     "start_time": "2023-11-04T01:59:05.702022900Z"
    }
   },
   "id": "847628f585c8f4a0"
  },
  {
   "cell_type": "code",
   "execution_count": 6,
   "outputs": [
    {
     "data": {
      "text/plain": "      game_id         play_id     game_id  team_id_for  team_id_against event  \\\n0  2015030141   2015030141_10  2015030141          3.0              5.0   Hit   \n1  2015030141   2015030141_10  2015030141          3.0              5.0   Hit   \n2  2015030141  2015030141_100  2015030141          3.0              5.0   Hit   \n3  2015030141  2015030141_100  2015030141          3.0              5.0   Hit   \n4  2015030141  2015030141_101  2015030141          3.0              5.0   Hit   \n\n  secondaryType     x     y  period periodType  periodTime  \\\n0          None -96.0  31.0       1    REGULAR         102   \n1          None -96.0  31.0       1    REGULAR         102   \n2          None -98.0  30.0       1    REGULAR         978   \n3          None -98.0  30.0       1    REGULAR         978   \n4          None -89.0 -37.0       1    REGULAR         985   \n\n   periodTimeRemaining             dateTime  goals_away  goals_home  \\\n0               1098.0  2016-04-14 01:12:35           0           0   \n1               1098.0  2016-04-14 01:12:35           0           0   \n2                222.0  2016-04-14 01:44:19           0           0   \n3                222.0  2016-04-14 01:44:19           0           0   \n4                215.0  2016-04-14 01:44:26           0           0   \n\n                      description  st_x  st_y  player_id  \n0     Jesper Fast hit Olli Maatta  96.0 -31.0    8475855  \n1     Jesper Fast hit Olli Maatta  96.0 -31.0    8476874  \n2    Jesper Fast hit Carl Hagelin  98.0 -30.0    8474176  \n3    Jesper Fast hit Carl Hagelin  98.0 -30.0    8475855  \n4  Jesper Fast hit Justin Schultz  89.0  37.0    8474602  ",
      "text/html": "<div>\n<style scoped>\n    .dataframe tbody tr th:only-of-type {\n        vertical-align: middle;\n    }\n\n    .dataframe tbody tr th {\n        vertical-align: top;\n    }\n\n    .dataframe thead th {\n        text-align: right;\n    }\n</style>\n<table border=\"1\" class=\"dataframe\">\n  <thead>\n    <tr style=\"text-align: right;\">\n      <th></th>\n      <th>game_id</th>\n      <th>play_id</th>\n      <th>game_id</th>\n      <th>team_id_for</th>\n      <th>team_id_against</th>\n      <th>event</th>\n      <th>secondaryType</th>\n      <th>x</th>\n      <th>y</th>\n      <th>period</th>\n      <th>periodType</th>\n      <th>periodTime</th>\n      <th>periodTimeRemaining</th>\n      <th>dateTime</th>\n      <th>goals_away</th>\n      <th>goals_home</th>\n      <th>description</th>\n      <th>st_x</th>\n      <th>st_y</th>\n      <th>player_id</th>\n    </tr>\n  </thead>\n  <tbody>\n    <tr>\n      <th>0</th>\n      <td>2015030141</td>\n      <td>2015030141_10</td>\n      <td>2015030141</td>\n      <td>3.0</td>\n      <td>5.0</td>\n      <td>Hit</td>\n      <td>None</td>\n      <td>-96.0</td>\n      <td>31.0</td>\n      <td>1</td>\n      <td>REGULAR</td>\n      <td>102</td>\n      <td>1098.0</td>\n      <td>2016-04-14 01:12:35</td>\n      <td>0</td>\n      <td>0</td>\n      <td>Jesper Fast hit Olli Maatta</td>\n      <td>96.0</td>\n      <td>-31.0</td>\n      <td>8475855</td>\n    </tr>\n    <tr>\n      <th>1</th>\n      <td>2015030141</td>\n      <td>2015030141_10</td>\n      <td>2015030141</td>\n      <td>3.0</td>\n      <td>5.0</td>\n      <td>Hit</td>\n      <td>None</td>\n      <td>-96.0</td>\n      <td>31.0</td>\n      <td>1</td>\n      <td>REGULAR</td>\n      <td>102</td>\n      <td>1098.0</td>\n      <td>2016-04-14 01:12:35</td>\n      <td>0</td>\n      <td>0</td>\n      <td>Jesper Fast hit Olli Maatta</td>\n      <td>96.0</td>\n      <td>-31.0</td>\n      <td>8476874</td>\n    </tr>\n    <tr>\n      <th>2</th>\n      <td>2015030141</td>\n      <td>2015030141_100</td>\n      <td>2015030141</td>\n      <td>3.0</td>\n      <td>5.0</td>\n      <td>Hit</td>\n      <td>None</td>\n      <td>-98.0</td>\n      <td>30.0</td>\n      <td>1</td>\n      <td>REGULAR</td>\n      <td>978</td>\n      <td>222.0</td>\n      <td>2016-04-14 01:44:19</td>\n      <td>0</td>\n      <td>0</td>\n      <td>Jesper Fast hit Carl Hagelin</td>\n      <td>98.0</td>\n      <td>-30.0</td>\n      <td>8474176</td>\n    </tr>\n    <tr>\n      <th>3</th>\n      <td>2015030141</td>\n      <td>2015030141_100</td>\n      <td>2015030141</td>\n      <td>3.0</td>\n      <td>5.0</td>\n      <td>Hit</td>\n      <td>None</td>\n      <td>-98.0</td>\n      <td>30.0</td>\n      <td>1</td>\n      <td>REGULAR</td>\n      <td>978</td>\n      <td>222.0</td>\n      <td>2016-04-14 01:44:19</td>\n      <td>0</td>\n      <td>0</td>\n      <td>Jesper Fast hit Carl Hagelin</td>\n      <td>98.0</td>\n      <td>-30.0</td>\n      <td>8475855</td>\n    </tr>\n    <tr>\n      <th>4</th>\n      <td>2015030141</td>\n      <td>2015030141_101</td>\n      <td>2015030141</td>\n      <td>3.0</td>\n      <td>5.0</td>\n      <td>Hit</td>\n      <td>None</td>\n      <td>-89.0</td>\n      <td>-37.0</td>\n      <td>1</td>\n      <td>REGULAR</td>\n      <td>985</td>\n      <td>215.0</td>\n      <td>2016-04-14 01:44:26</td>\n      <td>0</td>\n      <td>0</td>\n      <td>Jesper Fast hit Justin Schultz</td>\n      <td>89.0</td>\n      <td>37.0</td>\n      <td>8474602</td>\n    </tr>\n  </tbody>\n</table>\n</div>"
     },
     "execution_count": 6,
     "metadata": {},
     "output_type": "execute_result"
    }
   ],
   "source": [
    "pens_201516_playoff_df.head()"
   ],
   "metadata": {
    "collapsed": false,
    "ExecuteTime": {
     "end_time": "2023-11-04T01:59:26.961653700Z",
     "start_time": "2023-11-04T01:59:26.889444Z"
    }
   },
   "id": "6b8fd963730bcde2"
  },
  {
   "cell_type": "code",
   "execution_count": 7,
   "outputs": [
    {
     "data": {
      "text/plain": "Index(['game_id', 'play_id', 'game_id', 'team_id_for', 'team_id_against',\n       'event', 'secondaryType', 'x', 'y', 'period', 'periodType',\n       'periodTime', 'periodTimeRemaining', 'dateTime', 'goals_away',\n       'goals_home', 'description', 'st_x', 'st_y', 'player_id'],\n      dtype='object')"
     },
     "execution_count": 7,
     "metadata": {},
     "output_type": "execute_result"
    }
   ],
   "source": [
    "pens_201516_playoff_df.columns"
   ],
   "metadata": {
    "collapsed": false,
    "ExecuteTime": {
     "end_time": "2023-11-04T02:00:10.069000500Z",
     "start_time": "2023-11-04T02:00:10.061763Z"
    }
   },
   "id": "83cfba9f4328841"
  },
  {
   "cell_type": "code",
   "execution_count": 11,
   "outputs": [
    {
     "data": {
      "text/plain": "          game_id         play_id  team_id_for  team_id_against         event  \\\n0      2015030141   2015030141_10          3.0              5.0           Hit   \n1      2015030141   2015030141_10          3.0              5.0           Hit   \n2      2015030141  2015030141_100          3.0              5.0           Hit   \n3      2015030141  2015030141_100          3.0              5.0           Hit   \n4      2015030141  2015030141_101          3.0              5.0           Hit   \n...           ...             ...          ...              ...           ...   \n13174  2015030416   2015030416_97          5.0             28.0          Shot   \n13175  2015030416   2015030416_98         28.0              5.0           Hit   \n13176  2015030416   2015030416_98         28.0              5.0           Hit   \n13177  2015030416   2015030416_99         28.0              5.0  Blocked Shot   \n13178  2015030416   2015030416_99         28.0              5.0  Blocked Shot   \n\n      secondaryType     x     y  period periodType  periodTime  \\\n0              None -96.0  31.0       1    REGULAR         102   \n1              None -96.0  31.0       1    REGULAR         102   \n2              None -98.0  30.0       1    REGULAR         978   \n3              None -98.0  30.0       1    REGULAR         978   \n4              None -89.0 -37.0       1    REGULAR         985   \n...             ...   ...   ...     ...        ...         ...   \n13174    Wrist Shot -86.0   9.0       1    REGULAR         994   \n13175          None -97.0  28.0       1    REGULAR         998   \n13176          None -97.0  28.0       1    REGULAR         998   \n13177          None -73.0   0.0       1    REGULAR        1001   \n13178          None -73.0   0.0       1    REGULAR        1001   \n\n       periodTimeRemaining             dateTime  goals_away  goals_home  \\\n0                   1098.0  2016-04-14 01:12:35           0           0   \n1                   1098.0  2016-04-14 01:12:35           0           0   \n2                    222.0  2016-04-14 01:44:19           0           0   \n3                    222.0  2016-04-14 01:44:19           0           0   \n4                    215.0  2016-04-14 01:44:26           0           0   \n...                    ...                  ...         ...         ...   \n13174                206.0  2016-06-13 01:49:21           1           0   \n13175                202.0  2016-06-13 01:49:25           1           0   \n13176                202.0  2016-06-13 01:49:25           1           0   \n13177                199.0  2016-06-13 01:51:38           1           0   \n13178                199.0  2016-06-13 01:51:38           1           0   \n\n                                          description  st_x  st_y  player_id  \n0                         Jesper Fast hit Olli Maatta  96.0 -31.0    8475855  \n1                         Jesper Fast hit Olli Maatta  96.0 -31.0    8476874  \n2                        Jesper Fast hit Carl Hagelin  98.0 -30.0    8474176  \n3                        Jesper Fast hit Carl Hagelin  98.0 -30.0    8475855  \n4                      Jesper Fast hit Justin Schultz  89.0  37.0    8474602  \n...                                               ...   ...   ...        ...  \n13174  Sidney Crosby Wrist Shot saved by Martin Jones  86.0  -9.0    8474889  \n13175                   Paul Martin hit Sidney Crosby -97.0  28.0    8468542  \n13176                   Paul Martin hit Sidney Crosby -97.0  28.0    8471675  \n13177         Joel Ward blocked shot from Phil Kessel -73.0   0.0    8468208  \n13178         Joel Ward blocked shot from Phil Kessel -73.0   0.0    8473548  \n\n[13179 rows x 19 columns]",
      "text/html": "<div>\n<style scoped>\n    .dataframe tbody tr th:only-of-type {\n        vertical-align: middle;\n    }\n\n    .dataframe tbody tr th {\n        vertical-align: top;\n    }\n\n    .dataframe thead th {\n        text-align: right;\n    }\n</style>\n<table border=\"1\" class=\"dataframe\">\n  <thead>\n    <tr style=\"text-align: right;\">\n      <th></th>\n      <th>game_id</th>\n      <th>play_id</th>\n      <th>team_id_for</th>\n      <th>team_id_against</th>\n      <th>event</th>\n      <th>secondaryType</th>\n      <th>x</th>\n      <th>y</th>\n      <th>period</th>\n      <th>periodType</th>\n      <th>periodTime</th>\n      <th>periodTimeRemaining</th>\n      <th>dateTime</th>\n      <th>goals_away</th>\n      <th>goals_home</th>\n      <th>description</th>\n      <th>st_x</th>\n      <th>st_y</th>\n      <th>player_id</th>\n    </tr>\n  </thead>\n  <tbody>\n    <tr>\n      <th>0</th>\n      <td>2015030141</td>\n      <td>2015030141_10</td>\n      <td>3.0</td>\n      <td>5.0</td>\n      <td>Hit</td>\n      <td>None</td>\n      <td>-96.0</td>\n      <td>31.0</td>\n      <td>1</td>\n      <td>REGULAR</td>\n      <td>102</td>\n      <td>1098.0</td>\n      <td>2016-04-14 01:12:35</td>\n      <td>0</td>\n      <td>0</td>\n      <td>Jesper Fast hit Olli Maatta</td>\n      <td>96.0</td>\n      <td>-31.0</td>\n      <td>8475855</td>\n    </tr>\n    <tr>\n      <th>1</th>\n      <td>2015030141</td>\n      <td>2015030141_10</td>\n      <td>3.0</td>\n      <td>5.0</td>\n      <td>Hit</td>\n      <td>None</td>\n      <td>-96.0</td>\n      <td>31.0</td>\n      <td>1</td>\n      <td>REGULAR</td>\n      <td>102</td>\n      <td>1098.0</td>\n      <td>2016-04-14 01:12:35</td>\n      <td>0</td>\n      <td>0</td>\n      <td>Jesper Fast hit Olli Maatta</td>\n      <td>96.0</td>\n      <td>-31.0</td>\n      <td>8476874</td>\n    </tr>\n    <tr>\n      <th>2</th>\n      <td>2015030141</td>\n      <td>2015030141_100</td>\n      <td>3.0</td>\n      <td>5.0</td>\n      <td>Hit</td>\n      <td>None</td>\n      <td>-98.0</td>\n      <td>30.0</td>\n      <td>1</td>\n      <td>REGULAR</td>\n      <td>978</td>\n      <td>222.0</td>\n      <td>2016-04-14 01:44:19</td>\n      <td>0</td>\n      <td>0</td>\n      <td>Jesper Fast hit Carl Hagelin</td>\n      <td>98.0</td>\n      <td>-30.0</td>\n      <td>8474176</td>\n    </tr>\n    <tr>\n      <th>3</th>\n      <td>2015030141</td>\n      <td>2015030141_100</td>\n      <td>3.0</td>\n      <td>5.0</td>\n      <td>Hit</td>\n      <td>None</td>\n      <td>-98.0</td>\n      <td>30.0</td>\n      <td>1</td>\n      <td>REGULAR</td>\n      <td>978</td>\n      <td>222.0</td>\n      <td>2016-04-14 01:44:19</td>\n      <td>0</td>\n      <td>0</td>\n      <td>Jesper Fast hit Carl Hagelin</td>\n      <td>98.0</td>\n      <td>-30.0</td>\n      <td>8475855</td>\n    </tr>\n    <tr>\n      <th>4</th>\n      <td>2015030141</td>\n      <td>2015030141_101</td>\n      <td>3.0</td>\n      <td>5.0</td>\n      <td>Hit</td>\n      <td>None</td>\n      <td>-89.0</td>\n      <td>-37.0</td>\n      <td>1</td>\n      <td>REGULAR</td>\n      <td>985</td>\n      <td>215.0</td>\n      <td>2016-04-14 01:44:26</td>\n      <td>0</td>\n      <td>0</td>\n      <td>Jesper Fast hit Justin Schultz</td>\n      <td>89.0</td>\n      <td>37.0</td>\n      <td>8474602</td>\n    </tr>\n    <tr>\n      <th>...</th>\n      <td>...</td>\n      <td>...</td>\n      <td>...</td>\n      <td>...</td>\n      <td>...</td>\n      <td>...</td>\n      <td>...</td>\n      <td>...</td>\n      <td>...</td>\n      <td>...</td>\n      <td>...</td>\n      <td>...</td>\n      <td>...</td>\n      <td>...</td>\n      <td>...</td>\n      <td>...</td>\n      <td>...</td>\n      <td>...</td>\n      <td>...</td>\n    </tr>\n    <tr>\n      <th>13174</th>\n      <td>2015030416</td>\n      <td>2015030416_97</td>\n      <td>5.0</td>\n      <td>28.0</td>\n      <td>Shot</td>\n      <td>Wrist Shot</td>\n      <td>-86.0</td>\n      <td>9.0</td>\n      <td>1</td>\n      <td>REGULAR</td>\n      <td>994</td>\n      <td>206.0</td>\n      <td>2016-06-13 01:49:21</td>\n      <td>1</td>\n      <td>0</td>\n      <td>Sidney Crosby Wrist Shot saved by Martin Jones</td>\n      <td>86.0</td>\n      <td>-9.0</td>\n      <td>8474889</td>\n    </tr>\n    <tr>\n      <th>13175</th>\n      <td>2015030416</td>\n      <td>2015030416_98</td>\n      <td>28.0</td>\n      <td>5.0</td>\n      <td>Hit</td>\n      <td>None</td>\n      <td>-97.0</td>\n      <td>28.0</td>\n      <td>1</td>\n      <td>REGULAR</td>\n      <td>998</td>\n      <td>202.0</td>\n      <td>2016-06-13 01:49:25</td>\n      <td>1</td>\n      <td>0</td>\n      <td>Paul Martin hit Sidney Crosby</td>\n      <td>-97.0</td>\n      <td>28.0</td>\n      <td>8468542</td>\n    </tr>\n    <tr>\n      <th>13176</th>\n      <td>2015030416</td>\n      <td>2015030416_98</td>\n      <td>28.0</td>\n      <td>5.0</td>\n      <td>Hit</td>\n      <td>None</td>\n      <td>-97.0</td>\n      <td>28.0</td>\n      <td>1</td>\n      <td>REGULAR</td>\n      <td>998</td>\n      <td>202.0</td>\n      <td>2016-06-13 01:49:25</td>\n      <td>1</td>\n      <td>0</td>\n      <td>Paul Martin hit Sidney Crosby</td>\n      <td>-97.0</td>\n      <td>28.0</td>\n      <td>8471675</td>\n    </tr>\n    <tr>\n      <th>13177</th>\n      <td>2015030416</td>\n      <td>2015030416_99</td>\n      <td>28.0</td>\n      <td>5.0</td>\n      <td>Blocked Shot</td>\n      <td>None</td>\n      <td>-73.0</td>\n      <td>0.0</td>\n      <td>1</td>\n      <td>REGULAR</td>\n      <td>1001</td>\n      <td>199.0</td>\n      <td>2016-06-13 01:51:38</td>\n      <td>1</td>\n      <td>0</td>\n      <td>Joel Ward blocked shot from Phil Kessel</td>\n      <td>-73.0</td>\n      <td>0.0</td>\n      <td>8468208</td>\n    </tr>\n    <tr>\n      <th>13178</th>\n      <td>2015030416</td>\n      <td>2015030416_99</td>\n      <td>28.0</td>\n      <td>5.0</td>\n      <td>Blocked Shot</td>\n      <td>None</td>\n      <td>-73.0</td>\n      <td>0.0</td>\n      <td>1</td>\n      <td>REGULAR</td>\n      <td>1001</td>\n      <td>199.0</td>\n      <td>2016-06-13 01:51:38</td>\n      <td>1</td>\n      <td>0</td>\n      <td>Joel Ward blocked shot from Phil Kessel</td>\n      <td>-73.0</td>\n      <td>0.0</td>\n      <td>8473548</td>\n    </tr>\n  </tbody>\n</table>\n<p>13179 rows × 19 columns</p>\n</div>"
     },
     "execution_count": 11,
     "metadata": {},
     "output_type": "execute_result"
    }
   ],
   "source": [
    "pens_201516_playoff_df.iloc[:,~pens_201516_playoff_df.columns.duplicated()]"
   ],
   "metadata": {
    "collapsed": false,
    "ExecuteTime": {
     "end_time": "2023-11-04T02:03:17.469545300Z",
     "start_time": "2023-11-04T02:03:17.451047800Z"
    }
   },
   "id": "2baf33c5f0ecfce9"
  },
  {
   "cell_type": "code",
   "execution_count": 15,
   "outputs": [
    {
     "data": {
      "text/plain": "          game_id         play_id     game_id  team_id_for  team_id_against  \\\n0      2015030141   2015030141_10  2015030141          3.0              5.0   \n1      2015030141   2015030141_10  2015030141          3.0              5.0   \n2      2015030141  2015030141_100  2015030141          3.0              5.0   \n3      2015030141  2015030141_100  2015030141          3.0              5.0   \n4      2015030141  2015030141_101  2015030141          3.0              5.0   \n...           ...             ...         ...          ...              ...   \n13174  2015030416   2015030416_97  2015030416          5.0             28.0   \n13175  2015030416   2015030416_98  2015030416         28.0              5.0   \n13176  2015030416   2015030416_98  2015030416         28.0              5.0   \n13177  2015030416   2015030416_99  2015030416         28.0              5.0   \n13178  2015030416   2015030416_99  2015030416         28.0              5.0   \n\n              event secondaryType     x     y  period periodType  periodTime  \\\n0               Hit          None -96.0  31.0       1    REGULAR         102   \n1               Hit          None -96.0  31.0       1    REGULAR         102   \n2               Hit          None -98.0  30.0       1    REGULAR         978   \n3               Hit          None -98.0  30.0       1    REGULAR         978   \n4               Hit          None -89.0 -37.0       1    REGULAR         985   \n...             ...           ...   ...   ...     ...        ...         ...   \n13174          Shot    Wrist Shot -86.0   9.0       1    REGULAR         994   \n13175           Hit          None -97.0  28.0       1    REGULAR         998   \n13176           Hit          None -97.0  28.0       1    REGULAR         998   \n13177  Blocked Shot          None -73.0   0.0       1    REGULAR        1001   \n13178  Blocked Shot          None -73.0   0.0       1    REGULAR        1001   \n\n       periodTimeRemaining  goals_away  goals_home  \\\n0                   1098.0           0           0   \n1                   1098.0           0           0   \n2                    222.0           0           0   \n3                    222.0           0           0   \n4                    215.0           0           0   \n...                    ...         ...         ...   \n13174                206.0           1           0   \n13175                202.0           1           0   \n13176                202.0           1           0   \n13177                199.0           1           0   \n13178                199.0           1           0   \n\n                                          description  player_id  \n0                         Jesper Fast hit Olli Maatta    8475855  \n1                         Jesper Fast hit Olli Maatta    8476874  \n2                        Jesper Fast hit Carl Hagelin    8474176  \n3                        Jesper Fast hit Carl Hagelin    8475855  \n4                      Jesper Fast hit Justin Schultz    8474602  \n...                                               ...        ...  \n13174  Sidney Crosby Wrist Shot saved by Martin Jones    8474889  \n13175                   Paul Martin hit Sidney Crosby    8468542  \n13176                   Paul Martin hit Sidney Crosby    8471675  \n13177         Joel Ward blocked shot from Phil Kessel    8468208  \n13178         Joel Ward blocked shot from Phil Kessel    8473548  \n\n[13179 rows x 17 columns]",
      "text/html": "<div>\n<style scoped>\n    .dataframe tbody tr th:only-of-type {\n        vertical-align: middle;\n    }\n\n    .dataframe tbody tr th {\n        vertical-align: top;\n    }\n\n    .dataframe thead th {\n        text-align: right;\n    }\n</style>\n<table border=\"1\" class=\"dataframe\">\n  <thead>\n    <tr style=\"text-align: right;\">\n      <th></th>\n      <th>game_id</th>\n      <th>play_id</th>\n      <th>game_id</th>\n      <th>team_id_for</th>\n      <th>team_id_against</th>\n      <th>event</th>\n      <th>secondaryType</th>\n      <th>x</th>\n      <th>y</th>\n      <th>period</th>\n      <th>periodType</th>\n      <th>periodTime</th>\n      <th>periodTimeRemaining</th>\n      <th>goals_away</th>\n      <th>goals_home</th>\n      <th>description</th>\n      <th>player_id</th>\n    </tr>\n  </thead>\n  <tbody>\n    <tr>\n      <th>0</th>\n      <td>2015030141</td>\n      <td>2015030141_10</td>\n      <td>2015030141</td>\n      <td>3.0</td>\n      <td>5.0</td>\n      <td>Hit</td>\n      <td>None</td>\n      <td>-96.0</td>\n      <td>31.0</td>\n      <td>1</td>\n      <td>REGULAR</td>\n      <td>102</td>\n      <td>1098.0</td>\n      <td>0</td>\n      <td>0</td>\n      <td>Jesper Fast hit Olli Maatta</td>\n      <td>8475855</td>\n    </tr>\n    <tr>\n      <th>1</th>\n      <td>2015030141</td>\n      <td>2015030141_10</td>\n      <td>2015030141</td>\n      <td>3.0</td>\n      <td>5.0</td>\n      <td>Hit</td>\n      <td>None</td>\n      <td>-96.0</td>\n      <td>31.0</td>\n      <td>1</td>\n      <td>REGULAR</td>\n      <td>102</td>\n      <td>1098.0</td>\n      <td>0</td>\n      <td>0</td>\n      <td>Jesper Fast hit Olli Maatta</td>\n      <td>8476874</td>\n    </tr>\n    <tr>\n      <th>2</th>\n      <td>2015030141</td>\n      <td>2015030141_100</td>\n      <td>2015030141</td>\n      <td>3.0</td>\n      <td>5.0</td>\n      <td>Hit</td>\n      <td>None</td>\n      <td>-98.0</td>\n      <td>30.0</td>\n      <td>1</td>\n      <td>REGULAR</td>\n      <td>978</td>\n      <td>222.0</td>\n      <td>0</td>\n      <td>0</td>\n      <td>Jesper Fast hit Carl Hagelin</td>\n      <td>8474176</td>\n    </tr>\n    <tr>\n      <th>3</th>\n      <td>2015030141</td>\n      <td>2015030141_100</td>\n      <td>2015030141</td>\n      <td>3.0</td>\n      <td>5.0</td>\n      <td>Hit</td>\n      <td>None</td>\n      <td>-98.0</td>\n      <td>30.0</td>\n      <td>1</td>\n      <td>REGULAR</td>\n      <td>978</td>\n      <td>222.0</td>\n      <td>0</td>\n      <td>0</td>\n      <td>Jesper Fast hit Carl Hagelin</td>\n      <td>8475855</td>\n    </tr>\n    <tr>\n      <th>4</th>\n      <td>2015030141</td>\n      <td>2015030141_101</td>\n      <td>2015030141</td>\n      <td>3.0</td>\n      <td>5.0</td>\n      <td>Hit</td>\n      <td>None</td>\n      <td>-89.0</td>\n      <td>-37.0</td>\n      <td>1</td>\n      <td>REGULAR</td>\n      <td>985</td>\n      <td>215.0</td>\n      <td>0</td>\n      <td>0</td>\n      <td>Jesper Fast hit Justin Schultz</td>\n      <td>8474602</td>\n    </tr>\n    <tr>\n      <th>...</th>\n      <td>...</td>\n      <td>...</td>\n      <td>...</td>\n      <td>...</td>\n      <td>...</td>\n      <td>...</td>\n      <td>...</td>\n      <td>...</td>\n      <td>...</td>\n      <td>...</td>\n      <td>...</td>\n      <td>...</td>\n      <td>...</td>\n      <td>...</td>\n      <td>...</td>\n      <td>...</td>\n      <td>...</td>\n    </tr>\n    <tr>\n      <th>13174</th>\n      <td>2015030416</td>\n      <td>2015030416_97</td>\n      <td>2015030416</td>\n      <td>5.0</td>\n      <td>28.0</td>\n      <td>Shot</td>\n      <td>Wrist Shot</td>\n      <td>-86.0</td>\n      <td>9.0</td>\n      <td>1</td>\n      <td>REGULAR</td>\n      <td>994</td>\n      <td>206.0</td>\n      <td>1</td>\n      <td>0</td>\n      <td>Sidney Crosby Wrist Shot saved by Martin Jones</td>\n      <td>8474889</td>\n    </tr>\n    <tr>\n      <th>13175</th>\n      <td>2015030416</td>\n      <td>2015030416_98</td>\n      <td>2015030416</td>\n      <td>28.0</td>\n      <td>5.0</td>\n      <td>Hit</td>\n      <td>None</td>\n      <td>-97.0</td>\n      <td>28.0</td>\n      <td>1</td>\n      <td>REGULAR</td>\n      <td>998</td>\n      <td>202.0</td>\n      <td>1</td>\n      <td>0</td>\n      <td>Paul Martin hit Sidney Crosby</td>\n      <td>8468542</td>\n    </tr>\n    <tr>\n      <th>13176</th>\n      <td>2015030416</td>\n      <td>2015030416_98</td>\n      <td>2015030416</td>\n      <td>28.0</td>\n      <td>5.0</td>\n      <td>Hit</td>\n      <td>None</td>\n      <td>-97.0</td>\n      <td>28.0</td>\n      <td>1</td>\n      <td>REGULAR</td>\n      <td>998</td>\n      <td>202.0</td>\n      <td>1</td>\n      <td>0</td>\n      <td>Paul Martin hit Sidney Crosby</td>\n      <td>8471675</td>\n    </tr>\n    <tr>\n      <th>13177</th>\n      <td>2015030416</td>\n      <td>2015030416_99</td>\n      <td>2015030416</td>\n      <td>28.0</td>\n      <td>5.0</td>\n      <td>Blocked Shot</td>\n      <td>None</td>\n      <td>-73.0</td>\n      <td>0.0</td>\n      <td>1</td>\n      <td>REGULAR</td>\n      <td>1001</td>\n      <td>199.0</td>\n      <td>1</td>\n      <td>0</td>\n      <td>Joel Ward blocked shot from Phil Kessel</td>\n      <td>8468208</td>\n    </tr>\n    <tr>\n      <th>13178</th>\n      <td>2015030416</td>\n      <td>2015030416_99</td>\n      <td>2015030416</td>\n      <td>28.0</td>\n      <td>5.0</td>\n      <td>Blocked Shot</td>\n      <td>None</td>\n      <td>-73.0</td>\n      <td>0.0</td>\n      <td>1</td>\n      <td>REGULAR</td>\n      <td>1001</td>\n      <td>199.0</td>\n      <td>1</td>\n      <td>0</td>\n      <td>Joel Ward blocked shot from Phil Kessel</td>\n      <td>8473548</td>\n    </tr>\n  </tbody>\n</table>\n<p>13179 rows × 17 columns</p>\n</div>"
     },
     "execution_count": 15,
     "metadata": {},
     "output_type": "execute_result"
    }
   ],
   "source": [
    "pens_201516_playoff_df.drop(['dateTime','st_x','st_y'], axis=1)"
   ],
   "metadata": {
    "collapsed": false,
    "ExecuteTime": {
     "end_time": "2023-11-04T02:06:28.995464300Z",
     "start_time": "2023-11-04T02:06:28.976825200Z"
    }
   },
   "id": "5fb7612d18c84e41"
  },
  {
   "cell_type": "code",
   "execution_count": 16,
   "outputs": [
    {
     "data": {
      "text/plain": "array(['Hit', 'Shot', 'Faceoff', 'Blocked Shot', 'Missed Shot',\n       'Takeaway', 'Goal', 'Penalty', 'Giveaway'], dtype=object)"
     },
     "execution_count": 16,
     "metadata": {},
     "output_type": "execute_result"
    }
   ],
   "source": [
    "pens_201516_playoff_df.event.unique()"
   ],
   "metadata": {
    "collapsed": false,
    "ExecuteTime": {
     "end_time": "2023-11-04T02:06:59.531335700Z",
     "start_time": "2023-11-04T02:06:59.523833900Z"
    }
   },
   "id": "b8fd6fa5f127f80d"
  },
  {
   "cell_type": "code",
   "execution_count": 17,
   "outputs": [
    {
     "data": {
      "text/plain": "array([None, 'Wrist Shot', 'Snap Shot', 'Slap Shot', 'Interference',\n       'Backhand', 'Holding', 'Tripping', 'Tip-In',\n       'Hi stick - double minor', 'Roughing', 'Interference - Goalkeeper',\n       'Wrap-around', 'Hooking', 'Illegal check to head',\n       'Unsportsmanlike conduct', 'Slashing', 'Cross checking',\n       'Fighting', 'Boarding', 'Holding the stick', 'Hi-sticking',\n       'Embellishment', 'Too many men on the ice',\n       'Delaying Game - Puck over glass', 'Elbowing', 'Misconduct',\n       'Deflected'], dtype=object)"
     },
     "execution_count": 17,
     "metadata": {},
     "output_type": "execute_result"
    }
   ],
   "source": [
    "pens_201516_playoff_df.secondaryType.unique()"
   ],
   "metadata": {
    "collapsed": false,
    "ExecuteTime": {
     "end_time": "2023-11-04T02:07:06.984020300Z",
     "start_time": "2023-11-04T02:07:06.978959400Z"
    }
   },
   "id": "582172a280d37b3c"
  },
  {
   "cell_type": "code",
   "execution_count": 21,
   "outputs": [
    {
     "name": "stdout",
     "output_type": "stream",
     "text": [
      "<class 'pandas.core.frame.DataFrame'>\n",
      "RangeIndex: 13179 entries, 0 to 13178\n",
      "Data columns (total 20 columns):\n",
      " #   Column               Non-Null Count  Dtype  \n",
      "---  ------               --------------  -----  \n",
      " 0   game_id              13179 non-null  int64  \n",
      " 1   play_id              13179 non-null  object \n",
      " 2   game_id              13179 non-null  int64  \n",
      " 3   team_id_for          13179 non-null  float64\n",
      " 4   team_id_against      13179 non-null  float64\n",
      " 5   event                13179 non-null  object \n",
      " 6   secondaryType        3586 non-null   object \n",
      " 7   x                    13163 non-null  float64\n",
      " 8   y                    13165 non-null  float64\n",
      " 9   period               13179 non-null  int64  \n",
      " 10  periodType           13179 non-null  object \n",
      " 11  periodTime           13179 non-null  int64  \n",
      " 12  periodTimeRemaining  13179 non-null  float64\n",
      " 13  dateTime             13179 non-null  object \n",
      " 14  goals_away           13179 non-null  int64  \n",
      " 15  goals_home           13179 non-null  int64  \n",
      " 16  description          13179 non-null  object \n",
      " 17  st_x                 13163 non-null  float64\n",
      " 18  st_y                 13163 non-null  float64\n",
      " 19  player_id            13179 non-null  int64  \n",
      "dtypes: float64(7), int64(7), object(6)\n",
      "memory usage: 2.0+ MB\n"
     ]
    }
   ],
   "source": [
    "pens_201516_playoff_df.info()"
   ],
   "metadata": {
    "collapsed": false,
    "ExecuteTime": {
     "end_time": "2023-11-04T02:08:54.062979100Z",
     "start_time": "2023-11-04T02:08:54.034491700Z"
    }
   },
   "id": "2edeebe61a0cfc3c"
  },
  {
   "cell_type": "code",
   "execution_count": 24,
   "outputs": [
    {
     "data": {
      "text/plain": "72.79004476819182"
     },
     "execution_count": 24,
     "metadata": {},
     "output_type": "execute_result"
    }
   ],
   "source": [
    "secondary_type_percent_null = (pens_201516_playoff_df['secondaryType'].isnull().sum())/13179*100\n",
    "secondary_type_percent_null"
   ],
   "metadata": {
    "collapsed": false,
    "ExecuteTime": {
     "end_time": "2023-11-04T02:10:42.243118300Z",
     "start_time": "2023-11-04T02:10:42.232446800Z"
    }
   },
   "id": "73e3a89f744ccdb4"
  },
  {
   "cell_type": "code",
   "execution_count": null,
   "outputs": [],
   "source": [],
   "metadata": {
    "collapsed": false
   },
   "id": "482090b2398996a1"
  }
 ],
 "metadata": {
  "kernelspec": {
   "display_name": "Python 3",
   "language": "python",
   "name": "python3"
  },
  "language_info": {
   "codemirror_mode": {
    "name": "ipython",
    "version": 2
   },
   "file_extension": ".py",
   "mimetype": "text/x-python",
   "name": "python",
   "nbconvert_exporter": "python",
   "pygments_lexer": "ipython2",
   "version": "2.7.6"
  }
 },
 "nbformat": 4,
 "nbformat_minor": 5
}
