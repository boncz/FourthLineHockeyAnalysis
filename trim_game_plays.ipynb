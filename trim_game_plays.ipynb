{
 "cells": [
  {
   "cell_type": "code",
   "execution_count": 67,
   "id": "initial_id",
   "metadata": {
    "collapsed": true,
    "ExecuteTime": {
     "end_time": "2023-11-12T04:08:09.966424200Z",
     "start_time": "2023-11-12T04:08:09.959216200Z"
    }
   },
   "outputs": [],
   "source": [
    "import pandas as pd"
   ]
  },
  {
   "cell_type": "markdown",
   "source": [
    "### The file 'game_plays.csv' is unnecessarily large, and not easily added to github. Because of this, I used the following code to trim it down\n",
    "\n",
    "First,  I took a look at the initial shape:"
   ],
   "metadata": {
    "collapsed": false
   },
   "id": "1188fa898d9b39b6"
  },
  {
   "cell_type": "code",
   "execution_count": 68,
   "outputs": [
    {
     "data": {
      "text/plain": "(5050529, 18)"
     },
     "execution_count": 68,
     "metadata": {},
     "output_type": "execute_result"
    }
   ],
   "source": [
    "df = pd.read_csv('game_plays.csv')\n",
    "df.shape"
   ],
   "metadata": {
    "collapsed": false,
    "ExecuteTime": {
     "end_time": "2023-11-12T04:08:19.733277900Z",
     "start_time": "2023-11-12T04:08:10.969434Z"
    }
   },
   "id": "1f381a892c1e3427"
  },
  {
   "cell_type": "markdown",
   "source": [
    "5050529 rows and 18 columns! Below I see what would be easy to filter on, given the project, by looking at the columns and their datatypes. "
   ],
   "metadata": {
    "collapsed": false
   },
   "id": "154caa58e950b16a"
  },
  {
   "cell_type": "code",
   "execution_count": 69,
   "outputs": [
    {
     "name": "stdout",
     "output_type": "stream",
     "text": [
      "Index(['play_id', 'game_id', 'team_id_for', 'team_id_against', 'event',\n",
      "       'secondaryType', 'x', 'y', 'period', 'periodType', 'periodTime',\n",
      "       'periodTimeRemaining', 'dateTime', 'goals_away', 'goals_home',\n",
      "       'description', 'st_x', 'st_y'],\n",
      "      dtype='object')\n",
      "play_id                 object\n",
      "game_id                  int64\n",
      "team_id_for            float64\n",
      "team_id_against        float64\n",
      "event                   object\n",
      "secondaryType           object\n",
      "x                      float64\n",
      "y                      float64\n",
      "period                   int64\n",
      "periodType              object\n",
      "periodTime               int64\n",
      "periodTimeRemaining    float64\n",
      "dateTime                object\n",
      "goals_away               int64\n",
      "goals_home               int64\n",
      "description             object\n",
      "st_x                   float64\n",
      "st_y                   float64\n",
      "dtype: object\n"
     ]
    },
    {
     "data": {
      "text/plain": "        play_id     game_id  team_id_for  team_id_against           event  \\\n0  2016020045_1  2016020045          NaN              NaN  Game Scheduled   \n1  2016020045_2  2016020045          NaN              NaN    Period Ready   \n2  2016020045_3  2016020045          NaN              NaN    Period Start   \n3  2016020045_4  2016020045         16.0              4.0         Faceoff   \n4  2016020045_5  2016020045         16.0              4.0            Shot   \n\n  secondaryType     x    y  period periodType  periodTime  \\\n0           NaN   NaN  NaN       1    REGULAR           0   \n1           NaN   NaN  NaN       1    REGULAR           0   \n2           NaN   NaN  NaN       1    REGULAR           0   \n3           NaN   0.0  0.0       1    REGULAR           0   \n4    Wrist Shot -71.0  9.0       1    REGULAR          54   \n\n   periodTimeRemaining             dateTime  goals_away  goals_home  \\\n0               1200.0  2016-10-18 23:40:58           0           0   \n1               1200.0  2016-10-19 01:35:28           0           0   \n2               1200.0  2016-10-19 01:40:50           0           0   \n3               1200.0  2016-10-19 01:40:50           0           0   \n4               1146.0  2016-10-19 01:41:44           0           0   \n\n                                         description  st_x  st_y  \n0                                     Game Scheduled   NaN   NaN  \n1                                       Period Ready   NaN   NaN  \n2                                       Period Start   NaN   NaN  \n3   Jonathan Toews faceoff won against Claude Giroux   0.0   0.0  \n4  Artem Anisimov Wrist Shot saved by Michal Neuv...  71.0  -9.0  ",
      "text/html": "<div>\n<style scoped>\n    .dataframe tbody tr th:only-of-type {\n        vertical-align: middle;\n    }\n\n    .dataframe tbody tr th {\n        vertical-align: top;\n    }\n\n    .dataframe thead th {\n        text-align: right;\n    }\n</style>\n<table border=\"1\" class=\"dataframe\">\n  <thead>\n    <tr style=\"text-align: right;\">\n      <th></th>\n      <th>play_id</th>\n      <th>game_id</th>\n      <th>team_id_for</th>\n      <th>team_id_against</th>\n      <th>event</th>\n      <th>secondaryType</th>\n      <th>x</th>\n      <th>y</th>\n      <th>period</th>\n      <th>periodType</th>\n      <th>periodTime</th>\n      <th>periodTimeRemaining</th>\n      <th>dateTime</th>\n      <th>goals_away</th>\n      <th>goals_home</th>\n      <th>description</th>\n      <th>st_x</th>\n      <th>st_y</th>\n    </tr>\n  </thead>\n  <tbody>\n    <tr>\n      <th>0</th>\n      <td>2016020045_1</td>\n      <td>2016020045</td>\n      <td>NaN</td>\n      <td>NaN</td>\n      <td>Game Scheduled</td>\n      <td>NaN</td>\n      <td>NaN</td>\n      <td>NaN</td>\n      <td>1</td>\n      <td>REGULAR</td>\n      <td>0</td>\n      <td>1200.0</td>\n      <td>2016-10-18 23:40:58</td>\n      <td>0</td>\n      <td>0</td>\n      <td>Game Scheduled</td>\n      <td>NaN</td>\n      <td>NaN</td>\n    </tr>\n    <tr>\n      <th>1</th>\n      <td>2016020045_2</td>\n      <td>2016020045</td>\n      <td>NaN</td>\n      <td>NaN</td>\n      <td>Period Ready</td>\n      <td>NaN</td>\n      <td>NaN</td>\n      <td>NaN</td>\n      <td>1</td>\n      <td>REGULAR</td>\n      <td>0</td>\n      <td>1200.0</td>\n      <td>2016-10-19 01:35:28</td>\n      <td>0</td>\n      <td>0</td>\n      <td>Period Ready</td>\n      <td>NaN</td>\n      <td>NaN</td>\n    </tr>\n    <tr>\n      <th>2</th>\n      <td>2016020045_3</td>\n      <td>2016020045</td>\n      <td>NaN</td>\n      <td>NaN</td>\n      <td>Period Start</td>\n      <td>NaN</td>\n      <td>NaN</td>\n      <td>NaN</td>\n      <td>1</td>\n      <td>REGULAR</td>\n      <td>0</td>\n      <td>1200.0</td>\n      <td>2016-10-19 01:40:50</td>\n      <td>0</td>\n      <td>0</td>\n      <td>Period Start</td>\n      <td>NaN</td>\n      <td>NaN</td>\n    </tr>\n    <tr>\n      <th>3</th>\n      <td>2016020045_4</td>\n      <td>2016020045</td>\n      <td>16.0</td>\n      <td>4.0</td>\n      <td>Faceoff</td>\n      <td>NaN</td>\n      <td>0.0</td>\n      <td>0.0</td>\n      <td>1</td>\n      <td>REGULAR</td>\n      <td>0</td>\n      <td>1200.0</td>\n      <td>2016-10-19 01:40:50</td>\n      <td>0</td>\n      <td>0</td>\n      <td>Jonathan Toews faceoff won against Claude Giroux</td>\n      <td>0.0</td>\n      <td>0.0</td>\n    </tr>\n    <tr>\n      <th>4</th>\n      <td>2016020045_5</td>\n      <td>2016020045</td>\n      <td>16.0</td>\n      <td>4.0</td>\n      <td>Shot</td>\n      <td>Wrist Shot</td>\n      <td>-71.0</td>\n      <td>9.0</td>\n      <td>1</td>\n      <td>REGULAR</td>\n      <td>54</td>\n      <td>1146.0</td>\n      <td>2016-10-19 01:41:44</td>\n      <td>0</td>\n      <td>0</td>\n      <td>Artem Anisimov Wrist Shot saved by Michal Neuv...</td>\n      <td>71.0</td>\n      <td>-9.0</td>\n    </tr>\n  </tbody>\n</table>\n</div>"
     },
     "execution_count": 69,
     "metadata": {},
     "output_type": "execute_result"
    }
   ],
   "source": [
    "print(df.columns)\n",
    "print(df.dtypes)\n",
    "df.head()"
   ],
   "metadata": {
    "collapsed": false,
    "ExecuteTime": {
     "end_time": "2023-11-12T04:08:19.789271100Z",
     "start_time": "2023-11-12T04:08:19.746249900Z"
    }
   },
   "id": "add380e39c40cc2f"
  },
  {
   "cell_type": "markdown",
   "source": [
    "It seems like filtering by date is an obvious choice here, given the project parameters. The range of dates is checked below:"
   ],
   "metadata": {
    "collapsed": false
   },
   "id": "eccd8f0ea38a660c"
  },
  {
   "cell_type": "code",
   "execution_count": 70,
   "outputs": [
    {
     "data": {
      "text/plain": "                dateTime\nmin  2000-10-05 00:00:00\nmax  2020-09-29 04:05:31",
      "text/html": "<div>\n<style scoped>\n    .dataframe tbody tr th:only-of-type {\n        vertical-align: middle;\n    }\n\n    .dataframe tbody tr th {\n        vertical-align: top;\n    }\n\n    .dataframe thead th {\n        text-align: right;\n    }\n</style>\n<table border=\"1\" class=\"dataframe\">\n  <thead>\n    <tr style=\"text-align: right;\">\n      <th></th>\n      <th>dateTime</th>\n    </tr>\n  </thead>\n  <tbody>\n    <tr>\n      <th>min</th>\n      <td>2000-10-05 00:00:00</td>\n    </tr>\n    <tr>\n      <th>max</th>\n      <td>2020-09-29 04:05:31</td>\n    </tr>\n  </tbody>\n</table>\n</div>"
     },
     "execution_count": 70,
     "metadata": {},
     "output_type": "execute_result"
    }
   ],
   "source": [
    "df.aggregate({'dateTime':['min','max']})"
   ],
   "metadata": {
    "collapsed": false,
    "ExecuteTime": {
     "end_time": "2023-11-12T04:08:20.254191400Z",
     "start_time": "2023-11-12T04:08:19.773762200Z"
    }
   },
   "id": "be50aa4f90a187ff"
  },
  {
   "cell_type": "code",
   "execution_count": 71,
   "outputs": [],
   "source": [
    "filtered_df = df.query(\"dateTime >= '2016-04-13' \\\n",
    "                       and dateTime < '2017-06-11' \")\n"
   ],
   "metadata": {
    "collapsed": false,
    "ExecuteTime": {
     "end_time": "2023-11-12T04:08:29.811117900Z",
     "start_time": "2023-11-12T04:08:29.431874Z"
    }
   },
   "id": "d3e1b72e7f112347"
  },
  {
   "cell_type": "markdown",
   "source": [
    "It also appears that using both x,y and st_x,st_y is redundant. Furthermore, the text descriptions will not be needed for this project."
   ],
   "metadata": {
    "collapsed": false
   },
   "id": "2334ae832ab47dcb"
  },
  {
   "cell_type": "code",
   "execution_count": 72,
   "outputs": [],
   "source": [
    "filtered_df = filtered_df.drop(['st_y','st_x','description'], axis=1)\n"
   ],
   "metadata": {
    "collapsed": false,
    "ExecuteTime": {
     "end_time": "2023-11-12T04:08:31.532660500Z",
     "start_time": "2023-11-12T04:08:31.510804100Z"
    }
   },
   "id": "c58f7b370f91bf5c"
  },
  {
   "cell_type": "code",
   "execution_count": 73,
   "outputs": [
    {
     "data": {
      "text/plain": "(450788, 15)"
     },
     "execution_count": 73,
     "metadata": {},
     "output_type": "execute_result"
    }
   ],
   "source": [
    "filtered_df.shape"
   ],
   "metadata": {
    "collapsed": false,
    "ExecuteTime": {
     "end_time": "2023-11-12T04:08:32.183851200Z",
     "start_time": "2023-11-12T04:08:32.179801400Z"
    }
   },
   "id": "81989d2559a92b0c"
  },
  {
   "cell_type": "markdown",
   "source": [
    "450788 rows and 15 columns! Much more manageable. Let's save it as a new csv file."
   ],
   "metadata": {
    "collapsed": false
   },
   "id": "f8bdf9534c41709c"
  },
  {
   "cell_type": "code",
   "execution_count": 74,
   "outputs": [],
   "source": [
    "filtered_df.to_csv('game_plays_trimmed.csv')"
   ],
   "metadata": {
    "collapsed": false,
    "ExecuteTime": {
     "end_time": "2023-11-12T04:08:39.223042900Z",
     "start_time": "2023-11-12T04:08:37.234443300Z"
    }
   },
   "id": "bf5ca96ac875d721"
  },
  {
   "cell_type": "code",
   "execution_count": null,
   "outputs": [],
   "source": [],
   "metadata": {
    "collapsed": false
   },
   "id": "250006cc3f0537a2"
  }
 ],
 "metadata": {
  "kernelspec": {
   "display_name": "Python 3",
   "language": "python",
   "name": "python3"
  },
  "language_info": {
   "codemirror_mode": {
    "name": "ipython",
    "version": 2
   },
   "file_extension": ".py",
   "mimetype": "text/x-python",
   "name": "python",
   "nbconvert_exporter": "python",
   "pygments_lexer": "ipython2",
   "version": "2.7.6"
  }
 },
 "nbformat": 4,
 "nbformat_minor": 5
}
