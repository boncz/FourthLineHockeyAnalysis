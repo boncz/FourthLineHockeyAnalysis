{
 "cells": [
  {
   "cell_type": "code",
   "execution_count": 2,
   "id": "initial_id",
   "metadata": {
    "collapsed": true,
    "ExecuteTime": {
     "end_time": "2023-11-24T06:29:21.159419500Z",
     "start_time": "2023-11-24T06:29:21.152186700Z"
    }
   },
   "outputs": [],
   "source": [
    "import pandas as pd\n",
    "import sqlite3\n",
    "import data_files_manipulation as dfm"
   ]
  },
  {
   "cell_type": "markdown",
   "source": [
    "# NHL Game Data\n",
    "---------\n",
    "## This collection of hockey data files was originally found on Kaggle:\n",
    "### https://www.kaggle.com/datasets/martinellis/nhl-game-data\n",
    "\n",
    "Some unwanted files were dropped, though most remain. [See the process for trimming the game_plays file](trim_game_plays.ipynb)\n",
    " \n",
    "[Here is a diagram of the table relationships](table_relationships.JPG)"
   ],
   "metadata": {
    "collapsed": false
   },
   "id": "2e96c7870887292c"
  },
  {
   "cell_type": "markdown",
   "source": [
    "### Data Preparation\n",
    "---\n",
    "The files have been added to the repo in a compressed file. Run the cells below to unzip folder and move them to the project directory."
   ],
   "metadata": {
    "collapsed": false
   },
   "id": "4fe80b37323e2183"
  },
  {
   "cell_type": "code",
   "execution_count": 9,
   "outputs": [],
   "source": [
    "dfm.unzip_all_files()"
   ],
   "metadata": {
    "collapsed": false,
    "ExecuteTime": {
     "end_time": "2023-11-14T02:42:00.608078Z",
     "start_time": "2023-11-14T02:42:00.603459500Z"
    }
   },
   "id": "6ae612865052929f"
  },
  {
   "cell_type": "code",
   "execution_count": 6,
   "outputs": [
    {
     "ename": "FileNotFoundError",
     "evalue": "[WinError 2] The system cannot find the file specified: 'nhl_data_files_1'",
     "output_type": "error",
     "traceback": [
      "\u001B[1;31m---------------------------------------------------------------------------\u001B[0m",
      "\u001B[1;31mFileNotFoundError\u001B[0m                         Traceback (most recent call last)",
      "Cell \u001B[1;32mIn[6], line 1\u001B[0m\n\u001B[1;32m----> 1\u001B[0m \u001B[43mdfm\u001B[49m\u001B[38;5;241;43m.\u001B[39;49m\u001B[43mmove_all_files\u001B[49m\u001B[43m(\u001B[49m\u001B[38;5;124;43m'\u001B[39;49m\u001B[38;5;124;43mnhl_data_files_1\u001B[39;49m\u001B[38;5;124;43m'\u001B[39;49m\u001B[43m,\u001B[49m\u001B[38;5;124;43m'\u001B[39;49m\u001B[38;5;124;43m..\u001B[39;49m\u001B[38;5;124;43m'\u001B[39;49m\u001B[43m)\u001B[49m\n\u001B[0;32m      2\u001B[0m dfm\u001B[38;5;241m.\u001B[39mmove_all_files(\u001B[38;5;124m'\u001B[39m\u001B[38;5;124mnhl_data_files_2\u001B[39m\u001B[38;5;124m'\u001B[39m,\u001B[38;5;124m'\u001B[39m\u001B[38;5;124m..\u001B[39m\u001B[38;5;124m'\u001B[39m)\n\u001B[0;32m      3\u001B[0m dfm\u001B[38;5;241m.\u001B[39mmove_all_files(\u001B[38;5;124m'\u001B[39m\u001B[38;5;124mplayer_stats_data_files\u001B[39m\u001B[38;5;124m'\u001B[39m,\u001B[38;5;124m'\u001B[39m\u001B[38;5;124m..\u001B[39m\u001B[38;5;124m'\u001B[39m)\n",
      "File \u001B[1;32m~\\OneDrive\\Documents\\FourthLineHockeyAnalysis\\FourthLineHockeyAnalysis\\data_files_manipulation.py:18\u001B[0m, in \u001B[0;36mmove_all_files\u001B[1;34m(old_dir, new_dir)\u001B[0m\n\u001B[0;32m     17\u001B[0m \u001B[38;5;28;01mdef\u001B[39;00m \u001B[38;5;21mmove_all_files\u001B[39m(old_dir, new_dir):\n\u001B[1;32m---> 18\u001B[0m         files \u001B[38;5;241m=\u001B[39m os\u001B[38;5;241m.\u001B[39mlistdir(\u001B[43mos\u001B[49m\u001B[38;5;241;43m.\u001B[39;49m\u001B[43mchdir\u001B[49m\u001B[43m(\u001B[49m\u001B[43mold_dir\u001B[49m\u001B[43m)\u001B[49m)\n\u001B[0;32m     19\u001B[0m         new_location \u001B[38;5;241m=\u001B[39m Path(new_dir)\n\u001B[0;32m     20\u001B[0m         \u001B[38;5;28;01mfor\u001B[39;00m file \u001B[38;5;129;01min\u001B[39;00m files:\n",
      "\u001B[1;31mFileNotFoundError\u001B[0m: [WinError 2] The system cannot find the file specified: 'nhl_data_files_1'"
     ]
    }
   ],
   "source": [
    "dfm.move_all_files('nhl_data_files_1','..')\n",
    "dfm.move_all_files('nhl_data_files_2','..')\n",
    "dfm.move_all_files('player_stats_data_files','..')"
   ],
   "metadata": {
    "collapsed": false,
    "ExecuteTime": {
     "end_time": "2023-11-24T06:32:31.193969600Z",
     "start_time": "2023-11-24T06:32:31.175690400Z"
    }
   },
   "id": "fadf0e8bb3c4c7d8"
  },
  {
   "cell_type": "markdown",
   "source": [
    "### Create the SQL database\n",
    "-----\n",
    "This function will take a list of csv files, and compile a single SQL database, each csv file as a table. \n",
    "\n",
    "This is particularly useful when there are many different files that need to be connected in multiple ways before analysis can happen. Using a SQL query, a DataFrame with only the wanted information can be found and then manipulated using pandas."
   ],
   "metadata": {
    "collapsed": false
   },
   "id": "aa98ef98585961c6"
  },
  {
   "cell_type": "code",
   "execution_count": 10,
   "outputs": [],
   "source": [
    "def create_sql_database(list_of_files, db_name):\n",
    "    conn = sqlite3.connect(db_name)\n",
    "    for file in list_of_files:\n",
    "        df = pd.read_csv(file, low_memory=False)\n",
    "        df.to_sql(name = file.replace('.csv',''), con = conn, if_exists='replace', index=False)\n",
    "    conn.commit()\n",
    "    conn.close()"
   ],
   "metadata": {
    "collapsed": false,
    "ExecuteTime": {
     "end_time": "2023-11-14T02:46:14.967825600Z",
     "start_time": "2023-11-14T02:46:14.965814200Z"
    }
   },
   "id": "8745617394d372f8"
  },
  {
   "cell_type": "code",
   "execution_count": 11,
   "outputs": [],
   "source": [
    "nhl_data_files = ['game.csv','game_goals.csv', 'game_penalties.csv','game_plays_trimmed.csv','game_plays_players.csv', 'game_shifts.csv','game_skater_stats.csv','game_teams_stats.csv','player_info.csv','team_info.csv']"
   ],
   "metadata": {
    "collapsed": false,
    "ExecuteTime": {
     "end_time": "2023-11-14T02:46:16.387908200Z",
     "start_time": "2023-11-14T02:46:16.385349100Z"
    }
   },
   "id": "494970852022a7e5"
  },
  {
   "cell_type": "markdown",
   "source": [
    "### Construct the initial SQL database for the project\n",
    "---\n",
    "With just one function below, a new NHL_data database is created to use for this project's analysis."
   ],
   "metadata": {
    "collapsed": false
   },
   "id": "6af345686fd676ef"
  },
  {
   "cell_type": "code",
   "execution_count": 12,
   "outputs": [],
   "source": [
    "create_sql_database(nhl_data_files, 'NHL_data.db')"
   ],
   "metadata": {
    "collapsed": false,
    "ExecuteTime": {
     "end_time": "2023-11-14T02:46:59.516300500Z",
     "start_time": "2023-11-14T02:46:20.993477900Z"
    }
   },
   "id": "e95e98422addb5b8"
  },
  {
   "cell_type": "markdown",
   "source": [
    "Verify that everything is successful by printing the table names below:"
   ],
   "metadata": {
    "collapsed": false
   },
   "id": "2c9ba9e8fff398af"
  },
  {
   "cell_type": "code",
   "execution_count": 13,
   "outputs": [
    {
     "name": "stdout",
     "output_type": "stream",
     "text": [
      "List of tables\n",
      "\n",
      "[('game',), ('game_goals',), ('game_penalties',), ('game_plays_trimmed',), ('game_plays_players',), ('game_shifts',), ('game_skater_stats',), ('game_teams_stats',), ('player_info',), ('team_info',)]\n"
     ]
    }
   ],
   "source": [
    "table_test_query = \"\"\"\n",
    "    SELECT name FROM sqlite_master \n",
    "    WHERE type='table';\n",
    "    \"\"\"\n",
    "conn = sqlite3.connect('NHL_data.db')\n",
    "cur = conn.cursor()\n",
    "cur.execute(table_test_query)\n",
    "print(\"List of tables\\n\")\n",
    "# printing all tables list\n",
    "print(cur.fetchall())"
   ],
   "metadata": {
    "collapsed": false,
    "ExecuteTime": {
     "end_time": "2023-11-14T02:46:59.523630200Z",
     "start_time": "2023-11-14T02:46:59.517319800Z"
    }
   },
   "id": "a9a77b459ae356e"
  }
 ],
 "metadata": {
  "kernelspec": {
   "display_name": "Python 3",
   "language": "python",
   "name": "python3"
  },
  "language_info": {
   "codemirror_mode": {
    "name": "ipython",
    "version": 2
   },
   "file_extension": ".py",
   "mimetype": "text/x-python",
   "name": "python",
   "nbconvert_exporter": "python",
   "pygments_lexer": "ipython2",
   "version": "2.7.6"
  }
 },
 "nbformat": 4,
 "nbformat_minor": 5
}
